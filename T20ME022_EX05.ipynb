{
  "nbformat": 4,
  "nbformat_minor": 0,
  "metadata": {
    "colab": {
      "provenance": [],
      "mount_file_id": "1CqldU6akIRJlPgpH4kcqjQSnS0dYaM-s",
      "authorship_tag": "ABX9TyM0/I2rTEYi/EEnTQt5pHf6",
      "include_colab_link": true
    },
    "kernelspec": {
      "name": "python3",
      "display_name": "Python 3"
    },
    "language_info": {
      "name": "python"
    }
  },
  "cells": [
    {
      "cell_type": "markdown",
      "metadata": {
        "id": "view-in-github",
        "colab_type": "text"
      },
      "source": [
        "<a href=\"https://colab.research.google.com/github/Onmang/Multimedia_engineering/blob/master/T20ME022_EX05.ipynb\" target=\"_parent\"><img src=\"https://colab.research.google.com/assets/colab-badge.svg\" alt=\"Open In Colab\"/></a>"
      ]
    },
    {
      "cell_type": "code",
      "execution_count": 18,
      "metadata": {
        "colab": {
          "base_uri": "https://localhost:8080/"
        },
        "id": "L8jLdkAz0bfs",
        "outputId": "1785b107-8bd6-457f-ad11-26f9574e84c7"
      },
      "outputs": [
        {
          "output_type": "stream",
          "name": "stdout",
          "text": [
            "A＝\n",
            "[[ 1.  3. -2.  5.]\n",
            " [ 0.  2.  5. -1.]\n",
            " [ 1.  2. -3. -4.]\n",
            " [-1.  5.  2.  0.]]\n",
            "平均値＝0.9375\n",
            "標準偏差＝2.680\n",
            "逆行列＝\n",
            "[[ 0.2917847   0.45042493  0.25212465 -0.45609065]\n",
            " [ 0.05949008  0.01416431  0.07082153  0.13031161]\n",
            " [-0.00283286  0.1898017  -0.0509915  -0.05382436]\n",
            " [ 0.10481586 -0.02266289 -0.11331445 -0.00849858]]\n"
          ]
        }
      ],
      "source": [
        "import numpy as np\n",
        "\n",
        "def main():\n",
        "  A = np.loadtxt('/content/drive/MyDrive/enshu.txt')\n",
        "  ave = np.mean(A)\n",
        "  std = np.std(A)\n",
        "  A_inv = np.linalg.inv(A)\n",
        "  \n",
        "  print(f'A＝\\n{A}\\n平均値＝{ave:.4f}\\n標準偏差＝{std:.3f}\\n逆行列＝\\n{A_inv}')\n",
        "\n",
        "if __name__ ==\"__main__\":\n",
        "  main()"
      ]
    },
    {
      "cell_type": "code",
      "source": [],
      "metadata": {
        "id": "TJNnovq82KsG"
      },
      "execution_count": null,
      "outputs": []
    }
  ]
}