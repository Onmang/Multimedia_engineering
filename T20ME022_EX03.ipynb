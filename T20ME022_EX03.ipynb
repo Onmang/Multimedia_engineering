{
  "nbformat": 4,
  "nbformat_minor": 0,
  "metadata": {
    "colab": {
      "provenance": [],
      "authorship_tag": "ABX9TyPi39NMRxlsOlCgEGL1S4FX",
      "include_colab_link": true
    },
    "kernelspec": {
      "name": "python3",
      "display_name": "Python 3"
    },
    "language_info": {
      "name": "python"
    }
  },
  "cells": [
    {
      "cell_type": "markdown",
      "metadata": {
        "id": "view-in-github",
        "colab_type": "text"
      },
      "source": [
        "<a href=\"https://colab.research.google.com/github/Onmang/Multimedia_engineering/blob/master/T20ME022_EX03.ipynb\" target=\"_parent\"><img src=\"https://colab.research.google.com/assets/colab-badge.svg\" alt=\"Open In Colab\"/></a>"
      ]
    },
    {
      "cell_type": "code",
      "execution_count": 41,
      "metadata": {
        "colab": {
          "base_uri": "https://localhost:8080/"
        },
        "id": "SoaiFqFoGPG1",
        "outputId": "74fc0196-4c0d-4e59-a86e-208815f37850"
      },
      "outputs": [
        {
          "output_type": "stream",
          "name": "stdout",
          "text": [
            "数字を入力(\"0\"入力で終了) >> 1.5\n",
            "数字を入力(\"0\"入力で終了) >> 2.8\n",
            "数字を入力(\"0\"入力で終了) >> 0.1\n",
            "数字を入力(\"0\"入力で終了) >> 3.4\n",
            "数字を入力(\"0\"入力で終了) >> 0\n",
            "[1.5 2.8 0.1 3.4]の平均値は1.95, 分散は1.61です。\n"
          ]
        }
      ],
      "source": [
        "import numpy as np\n",
        "\n",
        "def main():\n",
        "  A = np.array([])  # init array\n",
        "\n",
        "  a = float(input('数字を入力(\"0\"入力で終了) >> '))\n",
        "  while a != 0:\n",
        "    A = np.append(A, a)  # A配列にaを追加\n",
        "    a = float(input('数字を入力(\"0\"入力で終了) >> '))\n",
        "\n",
        "  ave = np.mean(A)\n",
        "  var = np.var(A)\n",
        "  print(f\"{A}の平均値は{ave:.2f}, 分散は{var:.2f}です。\")\n",
        "\n",
        "if __name__ ==\"__main__\":\n",
        "  main()"
      ]
    },
    {
      "cell_type": "code",
      "source": [],
      "metadata": {
        "id": "w3RJR7pZMY7t"
      },
      "execution_count": null,
      "outputs": []
    }
  ]
}