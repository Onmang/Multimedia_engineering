{
  "nbformat": 4,
  "nbformat_minor": 0,
  "metadata": {
    "colab": {
      "provenance": [],
      "gpuType": "T4",
      "include_colab_link": true
    },
    "kernelspec": {
      "name": "python3",
      "display_name": "Python 3"
    },
    "accelerator": "GPU",
    "gpuClass": "standard"
  },
  "cells": [
    {
      "cell_type": "markdown",
      "metadata": {
        "id": "view-in-github",
        "colab_type": "text"
      },
      "source": [
        "<a href=\"https://colab.research.google.com/github/Onmang/Multimedia_engineering/blob/master/T20ME022_EX0526_2.ipynb\" target=\"_parent\"><img src=\"https://colab.research.google.com/assets/colab-badge.svg\" alt=\"Open In Colab\"/></a>"
      ]
    },
    {
      "cell_type": "markdown",
      "metadata": {
        "id": "P3gYICjkBAWS"
      },
      "source": [
        "**マルチメディア工学　第5回　MNISTを使った手書き数字分類**\n",
        "\n"
      ]
    },
    {
      "cell_type": "code",
      "metadata": {
        "id": "LiM63Y5MPqOF",
        "colab": {
          "base_uri": "https://localhost:8080/",
          "height": 35
        },
        "outputId": "0a332990-b9f9-4dfc-e294-1c19c9299458"
      },
      "source": [
        "import tensorflow as tf\n",
        "from tensorflow.keras.layers import Input, Flatten, Dense\n",
        "from tensorflow.keras import Model\n",
        "import numpy as np\n",
        "import cv2 # opencv \n",
        "import matplotlib.pyplot as plt # グラフを描画ためのライブラリ\n",
        "tf.test.gpu_device_name() # GPUの利用確認"
      ],
      "execution_count": 1,
      "outputs": [
        {
          "output_type": "execute_result",
          "data": {
            "text/plain": [
              "'/device:GPU:0'"
            ],
            "application/vnd.google.colaboratory.intrinsic+json": {
              "type": "string"
            }
          },
          "metadata": {},
          "execution_count": 1
        }
      ]
    },
    {
      "cell_type": "markdown",
      "metadata": {
        "id": "-sgP28b5SCzn"
      },
      "source": [
        "**1. MNISTデータの準備**"
      ]
    },
    {
      "cell_type": "code",
      "metadata": {
        "id": "IYPYN79aRUhf"
      },
      "source": [
        "mnist = tf.keras.datasets.mnist # MNISTデータを使う。TensorFlowにはMNIST用のライブラリが用意されている"
      ],
      "execution_count": 2,
      "outputs": []
    },
    {
      "cell_type": "code",
      "metadata": {
        "id": "NVvl8huARtKD",
        "colab": {
          "base_uri": "https://localhost:8080/"
        },
        "outputId": "a8ddf45f-5da6-420d-e93b-e07f9d239d4f"
      },
      "source": [
        "# MNISTデータをネットからロードする。\n",
        "# 訓練用60000枚，検証用10000枚。予め分けられている。\n",
        "(x_train, y_train), (x_valid, y_valid) = mnist.load_data()"
      ],
      "execution_count": 3,
      "outputs": [
        {
          "output_type": "stream",
          "name": "stdout",
          "text": [
            "Downloading data from https://storage.googleapis.com/tensorflow/tf-keras-datasets/mnist.npz\n",
            "11490434/11490434 [==============================] - 1s 0us/step\n"
          ]
        }
      ]
    },
    {
      "cell_type": "code",
      "metadata": {
        "id": "EygevonPSJVg",
        "colab": {
          "base_uri": "https://localhost:8080/"
        },
        "outputId": "8f1edb8e-3d3f-40c4-e997-3d8b9b397ea6"
      },
      "source": [
        "# データの表示\n",
        "print(x_train.shape) # 訓練データの形を出力。3次元テンソル(60000,28,28)になっている。28x28の画像が60000枚。\n",
        "print(x_valid.shape) # 検証データ\n",
        "print(x_train[0]) # 訓練データ1個の中身を見る。"
      ],
      "execution_count": 4,
      "outputs": [
        {
          "output_type": "stream",
          "name": "stdout",
          "text": [
            "(60000, 28, 28)\n",
            "(10000, 28, 28)\n",
            "[[  0   0   0   0   0   0   0   0   0   0   0   0   0   0   0   0   0   0\n",
            "    0   0   0   0   0   0   0   0   0   0]\n",
            " [  0   0   0   0   0   0   0   0   0   0   0   0   0   0   0   0   0   0\n",
            "    0   0   0   0   0   0   0   0   0   0]\n",
            " [  0   0   0   0   0   0   0   0   0   0   0   0   0   0   0   0   0   0\n",
            "    0   0   0   0   0   0   0   0   0   0]\n",
            " [  0   0   0   0   0   0   0   0   0   0   0   0   0   0   0   0   0   0\n",
            "    0   0   0   0   0   0   0   0   0   0]\n",
            " [  0   0   0   0   0   0   0   0   0   0   0   0   0   0   0   0   0   0\n",
            "    0   0   0   0   0   0   0   0   0   0]\n",
            " [  0   0   0   0   0   0   0   0   0   0   0   0   3  18  18  18 126 136\n",
            "  175  26 166 255 247 127   0   0   0   0]\n",
            " [  0   0   0   0   0   0   0   0  30  36  94 154 170 253 253 253 253 253\n",
            "  225 172 253 242 195  64   0   0   0   0]\n",
            " [  0   0   0   0   0   0   0  49 238 253 253 253 253 253 253 253 253 251\n",
            "   93  82  82  56  39   0   0   0   0   0]\n",
            " [  0   0   0   0   0   0   0  18 219 253 253 253 253 253 198 182 247 241\n",
            "    0   0   0   0   0   0   0   0   0   0]\n",
            " [  0   0   0   0   0   0   0   0  80 156 107 253 253 205  11   0  43 154\n",
            "    0   0   0   0   0   0   0   0   0   0]\n",
            " [  0   0   0   0   0   0   0   0   0  14   1 154 253  90   0   0   0   0\n",
            "    0   0   0   0   0   0   0   0   0   0]\n",
            " [  0   0   0   0   0   0   0   0   0   0   0 139 253 190   2   0   0   0\n",
            "    0   0   0   0   0   0   0   0   0   0]\n",
            " [  0   0   0   0   0   0   0   0   0   0   0  11 190 253  70   0   0   0\n",
            "    0   0   0   0   0   0   0   0   0   0]\n",
            " [  0   0   0   0   0   0   0   0   0   0   0   0  35 241 225 160 108   1\n",
            "    0   0   0   0   0   0   0   0   0   0]\n",
            " [  0   0   0   0   0   0   0   0   0   0   0   0   0  81 240 253 253 119\n",
            "   25   0   0   0   0   0   0   0   0   0]\n",
            " [  0   0   0   0   0   0   0   0   0   0   0   0   0   0  45 186 253 253\n",
            "  150  27   0   0   0   0   0   0   0   0]\n",
            " [  0   0   0   0   0   0   0   0   0   0   0   0   0   0   0  16  93 252\n",
            "  253 187   0   0   0   0   0   0   0   0]\n",
            " [  0   0   0   0   0   0   0   0   0   0   0   0   0   0   0   0   0 249\n",
            "  253 249  64   0   0   0   0   0   0   0]\n",
            " [  0   0   0   0   0   0   0   0   0   0   0   0   0   0  46 130 183 253\n",
            "  253 207   2   0   0   0   0   0   0   0]\n",
            " [  0   0   0   0   0   0   0   0   0   0   0   0  39 148 229 253 253 253\n",
            "  250 182   0   0   0   0   0   0   0   0]\n",
            " [  0   0   0   0   0   0   0   0   0   0  24 114 221 253 253 253 253 201\n",
            "   78   0   0   0   0   0   0   0   0   0]\n",
            " [  0   0   0   0   0   0   0   0  23  66 213 253 253 253 253 198  81   2\n",
            "    0   0   0   0   0   0   0   0   0   0]\n",
            " [  0   0   0   0   0   0  18 171 219 253 253 253 253 195  80   9   0   0\n",
            "    0   0   0   0   0   0   0   0   0   0]\n",
            " [  0   0   0   0  55 172 226 253 253 253 253 244 133  11   0   0   0   0\n",
            "    0   0   0   0   0   0   0   0   0   0]\n",
            " [  0   0   0   0 136 253 253 253 212 135 132  16   0   0   0   0   0   0\n",
            "    0   0   0   0   0   0   0   0   0   0]\n",
            " [  0   0   0   0   0   0   0   0   0   0   0   0   0   0   0   0   0   0\n",
            "    0   0   0   0   0   0   0   0   0   0]\n",
            " [  0   0   0   0   0   0   0   0   0   0   0   0   0   0   0   0   0   0\n",
            "    0   0   0   0   0   0   0   0   0   0]\n",
            " [  0   0   0   0   0   0   0   0   0   0   0   0   0   0   0   0   0   0\n",
            "    0   0   0   0   0   0   0   0   0   0]]\n"
          ]
        }
      ]
    },
    {
      "cell_type": "code",
      "metadata": {
        "id": "mwHo1RX9UiVO",
        "colab": {
          "base_uri": "https://localhost:8080/",
          "height": 447
        },
        "outputId": "c10a8c27-5463-483c-b6fe-e9e5200bb6a6"
      },
      "source": [
        "# 1個のデータを描画してみる\n",
        "plt.imshow(x_train[0], cmap='gray') # matplotlibのimshow関数で画像で表示。cmapはカラーマップを変換してくれるパラメータ引数\n",
        "plt.colorbar()\n",
        "# カラーマップ一覧 -> https://matplotlib.org/examples/color/colormaps_reference.html"
      ],
      "execution_count": 5,
      "outputs": [
        {
          "output_type": "execute_result",
          "data": {
            "text/plain": [
              "<matplotlib.colorbar.Colorbar at 0x7f78c19c66b0>"
            ]
          },
          "metadata": {},
          "execution_count": 5
        },
        {
          "output_type": "display_data",
          "data": {
            "text/plain": [
              "<Figure size 640x480 with 2 Axes>"
            ],
            "image/png": "[encoded data removed]"
          },
          "metadata": {}
        }
      ]
    },
    {
      "cell_type": "code",
      "metadata": {
        "id": "5swzezHrI_xq"
      },
      "source": [
        "# 正規化処理なし\n",
        "x_train = np.float32(x_train)\n",
        "x_valid = np.float32(x_valid)"
      ],
      "execution_count": 8,
      "outputs": []
    },
    {
      "cell_type": "markdown",
      "metadata": {
        "id": "zjLQALJ0YkBa"
      },
      "source": [
        "モデルの訓練をきちんと行うための必要事項:\n",
        "1. データセットのデータがよくシャッフルされること\n",
        "2. 適度な大きさでミニバッチ化される\n",
        "3. データが高速に利用できる\n"
      ]
    },
    {
      "cell_type": "code",
      "metadata": {
        "id": "rSiyDAnrV7uK"
      },
      "source": [
        "# tf.dataを使う（tf.Tensorに変換）\n",
        "train_ds = tf.data.Dataset.from_tensor_slices((x_train, y_train)) # 訓練セットの入力と教師ラベル合体させてTensorに変換\n",
        "valid_ds = tf.data.Dataset.from_tensor_slices((x_valid, y_valid)) # 検証も同様に処理\n",
        "\n",
        "AUTOTUNE = tf.data.experimental.AUTOTUNE # 処理を最適化するためのおまじない（自動チューニング設定）\n",
        "train_ds = train_ds.shuffle(len(x_train)) # 訓練データをシャッフルする。引数にはデータ数を指定すると完全なシャッフルが行われる。len(x_train)は60000。\n",
        "train_ds = train_ds.repeat(1) # 1 epochで使われるデータの回数。1の場合，1epochで1回しか使われない。引数を空欄にすると無限に使われる。\n",
        "train_ds = train_ds.batch(32) # ミニバッチを作る。1バッチ32個のデータ。\n",
        "train_ds = train_ds.prefetch(buffer_size=AUTOTUNE) # 訓練中に次のバッチを取り出すための処理。\n",
        "valid_ds = valid_ds.batch(32) # 検証データはシャッフルする必要ないので，バッチ化のみの処理でOK。"
      ],
      "execution_count": 9,
      "outputs": []
    },
    {
      "cell_type": "markdown",
      "metadata": {
        "id": "2irh-3VKbPEc"
      },
      "source": [
        "**2. モデルの設計**"
      ]
    },
    {
      "cell_type": "code",
      "metadata": {
        "id": "8xD2Z0b6bSNb",
        "colab": {
          "base_uri": "https://localhost:8080/"
        },
        "outputId": "15d71b1b-7167-4486-f6fa-993fddc3e264"
      },
      "source": [
        "# 今回は Functional API を使ってみる。（今後こっちの書き方でやります）\n",
        "input = Input(shape=(28, 28), name='input') # 入力層の定義\n",
        "h = Flatten()(input) # 28x28の2次元テンソルを784次元の1次元テンソルに変換する。フラット化。\n",
        "h = Dense(512, activation='relu', name='dense1')(h) # 隠れ層のノードは512\n",
        "output = Dense(10, activation='softmax', name='output')(h) # 出力層\n",
        "\n",
        "model = Model(inputs=input, outputs=output) # この処理でモデルを実体化する。入力層と出力層を渡すと自動的にネットワークを構築してくれる。\n",
        "model.summary()"
      ],
      "execution_count": 10,
      "outputs": [
        {
          "output_type": "stream",
          "name": "stdout",
          "text": [
            "Model: \"model\"\n",
            "_________________________________________________________________\n",
            " Layer (type)                Output Shape              Param #   \n",
            "=================================================================\n",
            " input (InputLayer)          [(None, 28, 28)]          0         \n",
            "                                                                 \n",
            " flatten (Flatten)           (None, 784)               0         \n",
            "                                                                 \n",
            " dense1 (Dense)              (None, 512)               401920    \n",
            "                                                                 \n",
            " output (Dense)              (None, 10)                5130      \n",
            "                                                                 \n",
            "=================================================================\n",
            "Total params: 407,050\n",
            "Trainable params: 407,050\n",
            "Non-trainable params: 0\n",
            "_________________________________________________________________\n"
          ]
        }
      ]
    },
    {
      "cell_type": "markdown",
      "metadata": {
        "id": "SeQOqHZsczyh"
      },
      "source": [
        "**3. 損失関数や最適化関数の定義**"
      ]
    },
    {
      "cell_type": "code",
      "metadata": {
        "id": "5un3Yywycyp-"
      },
      "source": [
        "model.compile(optimizer='adam', loss='sparse_categorical_crossentropy', metrics='accuracy')"
      ],
      "execution_count": 11,
      "outputs": []
    },
    {
      "cell_type": "markdown",
      "metadata": {
        "id": "Cg72R-gZdQa5"
      },
      "source": [
        "**4. 訓練**"
      ]
    },
    {
      "cell_type": "code",
      "metadata": {
        "id": "eUIMDGHUdVqq",
        "colab": {
          "base_uri": "https://localhost:8080/"
        },
        "outputId": "a23f36a2-5052-4b7b-90f6-1aeeeb4362c0"
      },
      "source": [
        "model.fit(train_ds, epochs=10, validation_data=valid_ds) # エポック数は10くらいで十分"
      ],
      "execution_count": 12,
      "outputs": [
        {
          "output_type": "stream",
          "name": "stdout",
          "text": [
            "Epoch 1/10\n",
            "1875/1875 [==============================] - 12s 3ms/step - loss: 0.1975 - accuracy: 0.9419 - val_loss: 0.0928 - val_accuracy: 0.9724\n",
            "Epoch 2/10\n",
            "1875/1875 [==============================] - 7s 4ms/step - loss: 0.0807 - accuracy: 0.9749 - val_loss: 0.0758 - val_accuracy: 0.9751\n",
            "Epoch 3/10\n",
            "1875/1875 [==============================] - 6s 3ms/step - loss: 0.0527 - accuracy: 0.9846 - val_loss: 0.0653 - val_accuracy: 0.9803\n",
            "Epoch 4/10\n",
            "1875/1875 [==============================] - 7s 4ms/step - loss: 0.0368 - accuracy: 0.9883 - val_loss: 0.0708 - val_accuracy: 0.9796\n",
            "Epoch 5/10\n",
            "1875/1875 [==============================] - 6s 3ms/step - loss: 0.0273 - accuracy: 0.9912 - val_loss: 0.0676 - val_accuracy: 0.9791\n",
            "Epoch 6/10\n",
            "1875/1875 [==============================] - 6s 3ms/step - loss: 0.0217 - accuracy: 0.9931 - val_loss: 0.0649 - val_accuracy: 0.9821\n",
            "Epoch 7/10\n",
            "1875/1875 [==============================] - 6s 3ms/step - loss: 0.0172 - accuracy: 0.9944 - val_loss: 0.0868 - val_accuracy: 0.9769\n",
            "Epoch 8/10\n",
            "1875/1875 [==============================] - 7s 4ms/step - loss: 0.0149 - accuracy: 0.9951 - val_loss: 0.0710 - val_accuracy: 0.9806\n",
            "Epoch 9/10\n",
            "1875/1875 [==============================] - 7s 4ms/step - loss: 0.0114 - accuracy: 0.9966 - val_loss: 0.0978 - val_accuracy: 0.9778\n",
            "Epoch 10/10\n",
            "1875/1875 [==============================] - 6s 3ms/step - loss: 0.0101 - accuracy: 0.9967 - val_loss: 0.0802 - val_accuracy: 0.9807\n"
          ]
        },
        {
          "output_type": "execute_result",
          "data": {
            "text/plain": [
              "<keras.callbacks.History at 0x7f78c00ef9a0>"
            ]
          },
          "metadata": {},
          "execution_count": 12
        }
      ]
    },
    {
      "cell_type": "markdown",
      "source": [
        "正規化ありの訓練はこちらへ"
      ],
      "metadata": {
        "id": "0NBRCLCHmY-a"
      }
    },
    {
      "cell_type": "code",
      "source": [
        "# ここに正規化処理を入れる\n",
        "x_train = np.float32(x_train) / 255.0\n",
        "x_valid = np.float32(x_valid) / 255.0"
      ],
      "metadata": {
        "id": "GR6ojsNomWqN"
      },
      "execution_count": 13,
      "outputs": []
    },
    {
      "cell_type": "code",
      "source": [
        "# tf.Data準備\n",
        "train_ds = tf.data.Dataset.from_tensor_slices((x_train, y_train)) # 訓練セットの入力と教師ラベル合体させてTensorに変換\n",
        "valid_ds = tf.data.Dataset.from_tensor_slices((x_valid, y_valid)) # 検証も同様に処理\n",
        "\n",
        "AUTOTUNE = tf.data.experimental.AUTOTUNE # 処理を最適化するためのおまじない（自動チューニング設定）\n",
        "train_ds = train_ds.shuffle(len(x_train)) # 訓練データをシャッフルする。引数にはデータ数を指定すると完全なシャッフルが行われる。len(x_train)は60000。\n",
        "train_ds = train_ds.repeat(1) # 1 epochで使われるデータの回数。1の場合，1epochで1回しか使われない。引数を空欄にすると無限に使われる。\n",
        "train_ds = train_ds.batch(32) # ミニバッチを作る。1バッチ32個のデータ。\n",
        "train_ds = train_ds.prefetch(buffer_size=AUTOTUNE) # 訓練中に次のバッチを取り出すための処理。\n",
        "valid_ds = valid_ds.batch(32) # 検証データはシャッフルする必要ないので，バッチ化のみの処理でOK。"
      ],
      "metadata": {
        "id": "LIE5_QXBmgzz"
      },
      "execution_count": 14,
      "outputs": []
    },
    {
      "cell_type": "code",
      "source": [
        "# モデル定義\n",
        "input = Input(shape=(28, 28), name='input') # 入力層の定義\n",
        "h = Flatten()(input) # 28x28の2次元テンソルを784次元の1次元テンソルに変換する。フラット化。\n",
        "h = Dense(512, activation='relu', name='dense1')(h) # 隠れ層のノードは512\n",
        "output = Dense(10, activation='softmax', name='output')(h) # 出力層\n",
        "\n",
        "model = Model(inputs=input, outputs=output) # この処理でモデルを実体化する。入力層と出力層を渡すと自動的にネットワークを構築してくれる。\n",
        "model.summary()"
      ],
      "metadata": {
        "id": "HPfIzOb5msEx",
        "colab": {
          "base_uri": "https://localhost:8080/"
        },
        "outputId": "1805028a-abff-46ae-97f2-7f8cf4666f21"
      },
      "execution_count": 15,
      "outputs": [
        {
          "output_type": "stream",
          "name": "stdout",
          "text": [
            "Model: \"model_1\"\n",
            "_________________________________________________________________\n",
            " Layer (type)                Output Shape              Param #   \n",
            "=================================================================\n",
            " input (InputLayer)          [(None, 28, 28)]          0         \n",
            "                                                                 \n",
            " flatten_1 (Flatten)         (None, 784)               0         \n",
            "                                                                 \n",
            " dense1 (Dense)              (None, 512)               401920    \n",
            "                                                                 \n",
            " output (Dense)              (None, 10)                5130      \n",
            "                                                                 \n",
            "=================================================================\n",
            "Total params: 407,050\n",
            "Trainable params: 407,050\n",
            "Non-trainable params: 0\n",
            "_________________________________________________________________\n"
          ]
        }
      ]
    },
    {
      "cell_type": "code",
      "source": [
        "model.compile(optimizer='adam', loss='sparse_categorical_crossentropy', metrics='accuracy')"
      ],
      "metadata": {
        "id": "YRNbq1tLN9ox"
      },
      "execution_count": 17,
      "outputs": []
    },
    {
      "cell_type": "code",
      "source": [
        "# 訓練\n",
        "model.fit(train_ds, epochs=10, validation_data=valid_ds) # エポック数は10くらいで十分"
      ],
      "metadata": {
        "id": "ZlUdD_5_mtmD",
        "colab": {
          "base_uri": "https://localhost:8080/"
        },
        "outputId": "b75fadaf-6190-4fa0-a43b-6208c2af94fa"
      },
      "execution_count": 18,
      "outputs": [
        {
          "output_type": "stream",
          "name": "stdout",
          "text": [
            "Epoch 1/10\n",
            "1875/1875 [==============================] - 8s 4ms/step - loss: 0.8356 - accuracy: 0.7880 - val_loss: 0.3998 - val_accuracy: 0.8931\n",
            "Epoch 2/10\n",
            "1875/1875 [==============================] - 6s 3ms/step - loss: 0.3622 - accuracy: 0.8982 - val_loss: 0.3161 - val_accuracy: 0.9113\n",
            "Epoch 3/10\n",
            "1875/1875 [==============================] - 7s 4ms/step - loss: 0.3100 - accuracy: 0.9110 - val_loss: 0.2862 - val_accuracy: 0.9163\n",
            "Epoch 4/10\n",
            "1875/1875 [==============================] - 6s 3ms/step - loss: 0.2821 - accuracy: 0.9187 - val_loss: 0.2658 - val_accuracy: 0.9259\n",
            "Epoch 5/10\n",
            "1875/1875 [==============================] - 6s 3ms/step - loss: 0.2613 - accuracy: 0.9245 - val_loss: 0.2451 - val_accuracy: 0.9283\n",
            "Epoch 6/10\n",
            "1875/1875 [==============================] - 7s 4ms/step - loss: 0.2408 - accuracy: 0.9309 - val_loss: 0.2336 - val_accuracy: 0.9327\n",
            "Epoch 7/10\n",
            "1875/1875 [==============================] - 6s 3ms/step - loss: 0.2216 - accuracy: 0.9360 - val_loss: 0.2145 - val_accuracy: 0.9390\n",
            "Epoch 8/10\n",
            "1875/1875 [==============================] - 7s 3ms/step - loss: 0.2041 - accuracy: 0.9418 - val_loss: 0.1963 - val_accuracy: 0.9420\n",
            "Epoch 9/10\n",
            "1875/1875 [==============================] - 7s 3ms/step - loss: 0.1886 - accuracy: 0.9466 - val_loss: 0.1855 - val_accuracy: 0.9468\n",
            "Epoch 10/10\n",
            "1875/1875 [==============================] - 6s 3ms/step - loss: 0.1739 - accuracy: 0.9503 - val_loss: 0.1722 - val_accuracy: 0.9487\n"
          ]
        },
        {
          "output_type": "execute_result",
          "data": {
            "text/plain": [
              "<keras.callbacks.History at 0x7f78421e39a0>"
            ]
          },
          "metadata": {},
          "execution_count": 18
        }
      ]
    },
    {
      "cell_type": "code",
      "metadata": {
        "id": "yCJNEB-WfLpl"
      },
      "source": [
        "model.save('mnist_dnn.h5') # モデルの保存。本当はGoogle Driveに保存したほうがよい。"
      ],
      "execution_count": 19,
      "outputs": []
    }
  ]
}