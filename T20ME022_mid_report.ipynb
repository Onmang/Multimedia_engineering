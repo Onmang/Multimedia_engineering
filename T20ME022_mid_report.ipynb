{
  "nbformat": 4,
  "nbformat_minor": 0,
  "metadata": {
    "colab": {
      "provenance": [],
      "gpuType": "T4",
      "include_colab_link": true
    },
    "kernelspec": {
      "name": "python3",
      "display_name": "Python 3"
    },
    "language_info": {
      "name": "python"
    },
    "accelerator": "GPU"
  },
  "cells": [
    {
      "cell_type": "markdown",
      "metadata": {
        "id": "view-in-github",
        "colab_type": "text"
      },
      "source": [
        "<a href=\"https://colab.research.google.com/github/Onmang/Multimedia_engineering/blob/master/T20ME022_mid_report.ipynb\" target=\"_parent\"><img src=\"https://colab.research.google.com/assets/colab-badge.svg\" alt=\"Open In Colab\"/></a>"
      ]
    },
    {
      "cell_type": "markdown",
      "source": [
        "中間レポート\n",
        "T20ME022 グエンコンフィ"
      ],
      "metadata": {
        "id": "sTNgGJIAjNiR"
      }
    },
    {
      "cell_type": "code",
      "execution_count": null,
      "metadata": {
        "id": "XUhfxYZkXGpS",
        "colab": {
          "base_uri": "https://localhost:8080/"
        },
        "outputId": "7ac362a9-8fbf-43d6-c37b-433bc56968c0"
      },
      "outputs": [
        {
          "output_type": "stream",
          "name": "stdout",
          "text": [
            "Archive:  /content/resistor_v3.zip\n",
            "replace data/valid/1600/1600_230_0.png? [y]es, [n]o, [A]ll, [N]one, [r]ename: "
          ]
        }
      ],
      "source": [
        "!unzip \"/content/resistor_v3.zip\""
      ]
    },
    {
      "cell_type": "code",
      "source": [
        "# ライブラリのインポート\n",
        "import tensorflow as tf\n",
        "from tensorflow.keras.layers import Input, Dense, Conv2D, MaxPooling2D, Flatten, Dropout\n",
        "from tensorflow.keras.models import Model\n",
        "import numpy as np\n",
        "import cv2\n",
        "import matplotlib.pyplot as plt\n",
        "import os # ディレクトリ（フォルダ）やファイルを扱うためのライブラリ（本当はPathlibライブラリのほうが良いが難しいので簡単な方で）\n",
        "import glob # ファイル一覧を取得するためのライブラリ\n",
        "import re # 正規表現を使ったパターンマッチング用（ラベルを取得するため）\n",
        "from keras.preprocessing import image # keras.preprocessing.image APIを利用する。画像拡張用の関数が用意されている。\n",
        "from keras.preprocessing.image import ImageDataGenerator\n",
        "tf.test.gpu_device_name() # GPUの利用確認"
      ],
      "metadata": {
        "colab": {
          "base_uri": "https://localhost:8080/",
          "height": 35
        },
        "id": "Wycb6owDaOND",
        "outputId": "41f2184f-7556-443e-f933-fa53db6c0794"
      },
      "execution_count": 1,
      "outputs": [
        {
          "output_type": "execute_result",
          "data": {
            "text/plain": [
              "'/device:GPU:0'"
            ],
            "application/vnd.google.colaboratory.intrinsic+json": {
              "type": "string"
            }
          },
          "metadata": {},
          "execution_count": 1
        }
      ]
    },
    {
      "cell_type": "code",
      "source": [
        "train_list = glob.glob('data/train/*/*.png') # 訓練用画像ファイルの取得（拡張子がpng）\n",
        "valid_list = glob.glob('data/valid/*/*.png') # 検証用画像ファイルの取得\n",
        "classes = sorted(os.listdir('data/train'), key=int) # 教師ラベルの一覧をリストで取得する。\"sorted\"でソートしておく。\n",
        "print(classes) # 取得した抵抗器のラベルを表示。文字列になっている点に注意すること！"
      ],
      "metadata": {
        "colab": {
          "base_uri": "https://localhost:8080/"
        },
        "id": "rktTXkRPac7b",
        "outputId": "91384fde-4bd2-4ab1-d1da-1242c2ed9fd8"
      },
      "execution_count": 2,
      "outputs": [
        {
          "output_type": "stream",
          "name": "stdout",
          "text": [
            "['150', '160', '390', '430', '620', '1600', '1800', '2200', '2400', '3000', '3300', '3600', '5600', '9100']\n"
          ]
        }
      ]
    },
    {
      "cell_type": "code",
      "source": [
        "# 画像変換するためのクラスをセットアップ\n",
        "# あまりドラスティックに変えるとはみ出るのでそこそこにする\n",
        "# ImageDataGeneratorを利用\n",
        "generator = ImageDataGenerator(\n",
        "            rotation_range=90,       # 画像の回転\n",
        "            width_shift_range=0.1,    # 横方向シフト （3通りの方法あり）\n",
        "            height_shift_range=0.1,    # 縦方向シフト\n",
        "            zoom_range=[0.5, 1.0],     # ズーム\n",
        "            horizontal_flip=True,   # 横方向のフラップ（折返し）\n",
        "            vertical_flip=True,      # 縦方向のフラップ\n",
        "            fill_mode='nearest',\n",
        "            )"
      ],
      "metadata": {
        "id": "wikVQ979wXVF"
      },
      "execution_count": 6,
      "outputs": []
    },
    {
      "cell_type": "code",
      "source": [
        "# データ拡張処理と保存\n",
        "# 拡張したデータはオリジナル画像と同じフォルダに保存されるが，拡張子は jpg にしてある（区別するため）\n",
        "# Albumentationを使う場合はソースコードを修正する必要がある。\n",
        "for file in train_list:\n",
        "    dir = os.path.dirname(file) # ファイルパス（ファイルが保存されているフォルダ）を取得\n",
        "    base = os.path.basename(file).split('.')[0] # ファイル名を取得（拡張子なし）\n",
        "    max_img_num = 10 # 1つの画像あたり10倍に拡張\n",
        "    img = cv2.imread(file) # 画像を読み込み\n",
        "    img = img[np.newaxis,:] # 4次元テンソルに変換\n",
        "    id = 0\n",
        "    for d in generator.flow(img, batch_size=1): # flow関数で画像をランダムに変換する\n",
        "        ofile = f'{base}_A{id:03d}.jpg' # 生成した画像はjpgで保存\n",
        "        output = os.path.join(dir, ofile) # 保存するファイル名を設定（ディレクトリ情報付き）\n",
        "        cv2.imwrite(output, d[0, :])  # ファイルに保存\n",
        "        #print(f'{output} saved.')\n",
        "        id += 1\n",
        "        # flow関数は無限ループするので必要な枚数生成できたらループを抜ける\n",
        "        if (id % max_img_num) == 0:\n",
        "            break"
      ],
      "metadata": {
        "id": "kKo0DYLWwm6a",
        "colab": {
          "base_uri": "https://localhost:8080/",
          "height": 240
        },
        "outputId": "c4d9355b-561e-402d-e589-a8fb71c4c798"
      },
      "execution_count": 18,
      "outputs": [
        {
          "output_type": "error",
          "ename": "NameError",
          "evalue": "ignored",
          "traceback": [
            "\u001b[0;31m---------------------------------------------------------------------------\u001b[0m",
            "\u001b[0;31mNameError\u001b[0m                                 Traceback (most recent call last)",
            "\u001b[0;32m<ipython-input-18-709230b7b04d>\u001b[0m in \u001b[0;36m<cell line: 4>\u001b[0;34m()\u001b[0m\n\u001b[1;32m      9\u001b[0m     \u001b[0mimg\u001b[0m \u001b[0;34m=\u001b[0m \u001b[0mimg\u001b[0m\u001b[0;34m[\u001b[0m\u001b[0mnp\u001b[0m\u001b[0;34m.\u001b[0m\u001b[0mnewaxis\u001b[0m\u001b[0;34m,\u001b[0m\u001b[0;34m:\u001b[0m\u001b[0;34m]\u001b[0m \u001b[0;31m# 4次元テンソルに変換\u001b[0m\u001b[0;34m\u001b[0m\u001b[0;34m\u001b[0m\u001b[0m\n\u001b[1;32m     10\u001b[0m     \u001b[0mid\u001b[0m \u001b[0;34m=\u001b[0m \u001b[0;36m0\u001b[0m\u001b[0;34m\u001b[0m\u001b[0;34m\u001b[0m\u001b[0m\n\u001b[0;32m---> 11\u001b[0;31m     \u001b[0;32mfor\u001b[0m \u001b[0md\u001b[0m \u001b[0;32min\u001b[0m \u001b[0mgenerator\u001b[0m\u001b[0;34m.\u001b[0m\u001b[0mflow\u001b[0m\u001b[0;34m(\u001b[0m\u001b[0mimg\u001b[0m\u001b[0;34m,\u001b[0m \u001b[0mbatch_size\u001b[0m\u001b[0;34m=\u001b[0m\u001b[0;36m1\u001b[0m\u001b[0;34m)\u001b[0m\u001b[0;34m:\u001b[0m \u001b[0;31m# flow関数で画像をランダムに変換する\u001b[0m\u001b[0;34m\u001b[0m\u001b[0;34m\u001b[0m\u001b[0m\n\u001b[0m\u001b[1;32m     12\u001b[0m         \u001b[0mofile\u001b[0m \u001b[0;34m=\u001b[0m \u001b[0;34mf'{base}_A{id:03d}.jpg'\u001b[0m \u001b[0;31m# 生成した画像はjpgで保存\u001b[0m\u001b[0;34m\u001b[0m\u001b[0;34m\u001b[0m\u001b[0m\n\u001b[1;32m     13\u001b[0m         \u001b[0moutput\u001b[0m \u001b[0;34m=\u001b[0m \u001b[0mos\u001b[0m\u001b[0;34m.\u001b[0m\u001b[0mpath\u001b[0m\u001b[0;34m.\u001b[0m\u001b[0mjoin\u001b[0m\u001b[0;34m(\u001b[0m\u001b[0mdir\u001b[0m\u001b[0;34m,\u001b[0m \u001b[0mofile\u001b[0m\u001b[0;34m)\u001b[0m \u001b[0;31m# 保存するファイル名を設定（ディレクトリ情報付き）\u001b[0m\u001b[0;34m\u001b[0m\u001b[0;34m\u001b[0m\u001b[0m\n",
            "\u001b[0;31mNameError\u001b[0m: name 'generator' is not defined"
          ]
        }
      ]
    },
    {
      "cell_type": "code",
      "source": [
        "train_ds = tf.data.Dataset.list_files(train_list) # 訓練ファイル名のリストをTensor型に変換\n",
        "valid_ds = tf.data.Dataset.list_files(valid_list) # 検証用のファイル名のリストをTensor型に変換\n",
        "\n",
        "# ファイル名から画像データをロードしてNNへ入力できるようにデータを成形する。ついでに教師ラベルも取得する\n",
        "def load_file(files):\n",
        "    ys = [] # ラベル\n",
        "    xs = [] # 入力データ\n",
        "    for f in files:\n",
        "        file = bytes.decode(f.numpy()) # ファイル名はTensor型で保存されているため，文字列型として取得する。\n",
        "        m = re.search(r'/(\\d+)_', file) # 正規表現を使ってファイル名から抵抗値を取得する。\n",
        "        label = m.groups()[0] # 抵抗値を取得しlabelに保存\n",
        "        ys.append(label) # ラベルをラベルリストに追加する\n",
        "        img = cv2.imread(file) # 画像データをカラーで取得。画像サイズは64x64になっているのでここではリサイズしない。\n",
        "        xs.append(img) # データを入力データリストに追加\n",
        "    xs = np.array(xs, dtype=np.float32) / 255. # 正規化してfloat32の行列に変換する\n",
        "    ys = np.array(ys, dtype=np.float32) # ラベルも行列に変換\n",
        "    return xs, ys\n",
        "\n",
        "#\n",
        "# tf.Dataによるtf.Tensor変換\n",
        "#\n",
        "AUTOTUNE = tf.data.experimental.AUTOTUNE # 処理を最適化するためのおまじない（自動チューニング設定）\n",
        "train_ds = train_ds.shuffle(len(train_list)) # 訓練データをシャッフルする。引数にはデータ数を指定すると完全なシャッフルが行われる。len(x_train)は60000。\n",
        "train_ds = train_ds.repeat(1) # 1 epochで使われるデータの回数。1の場合，1epochで1回しか使われない。引数を空欄にすると無限に使われる。\n",
        "train_ds = train_ds.batch(32) # ミニバッチを作る。1バッチ32個のデータ。\n",
        "train_ds = train_ds.map(lambda files: tf.py_function(load_file, [files], Tout=[tf.float32, tf.float32])) # ファイル名から入力ラベルとラベルを取得\n",
        "train_ds = train_ds.prefetch(buffer_size=AUTOTUNE) # 訓練中に次のバッチを取り出すための処理。\n",
        "\n",
        "valid_ds = valid_ds.batch(32) # 検証データはシャッフルする必要ないので，バッチ化のみの処理でOK。\n",
        "valid_ds = valid_ds.map(lambda x: tf.py_function(load_file, [x], Tout=[tf.float32, tf.float32]))"
      ],
      "metadata": {
        "id": "2LrAPzNMhlEI"
      },
      "execution_count": 19,
      "outputs": []
    },
    {
      "cell_type": "code",
      "source": [
        "# Functional API\n",
        "input = Input(shape=(64, 64, 3), name='input') # 入力層の定義　64×64×3 （カラー画像）\n",
        "h = Conv2D(16, (3, 3), padding='same', activation='relu', name='cnn01')(input)\n",
        "h = MaxPooling2D((2, 2), name='pool01')(h)\n",
        "#h = Dropout(rate=0.2)(h)\n",
        "h = Conv2D(64, (3, 3), padding='same', activation='relu', name='cnn02')(h)\n",
        "h = MaxPooling2D((2, 2), name='pool02')(h)\n",
        "#h = Dropout(rate=0.5)(h)\n",
        "h = Conv2D(256, (3, 3), padding='same', activation='relu', name='cnn03')(h)\n",
        "h = MaxPooling2D((2, 2), name='pool03')(h)\n",
        "#h = Dropout(rate=0.5)(h)\n",
        "h = Conv2D(1024, (3, 3), padding='same', activation='relu', name='cnn04')(h)\n",
        "h = MaxPooling2D((2, 2), name='pool04')(h)\n",
        "#h = Dropout(rate=0.5)(h)\n",
        "h = Conv2D(2048, (3, 3), padding='valid', activation='relu', name='cnn05')(h)\n",
        "h = MaxPooling2D((2, 2), name='pool05')(h)\n",
        "#h = Dropout(rate=0.2)(h)\n",
        "h = Flatten(name='flatten')(h) # GlobalAveragePoolingでも良い\n",
        "h = Dense(128, activation='relu', name='dense01')(h) # 全結合層の隠れ層のノードは128\n",
        "output = Dense(1, activation='linear', name='output')(h) # 出力層\n",
        "\n",
        "model = Model(inputs=input, outputs=output) # この処理でモデルを実体化する。入力層と出力層を渡すと自動的にネットワークを構築してくれる。\n",
        "model.summary()"
      ],
      "metadata": {
        "colab": {
          "base_uri": "https://localhost:8080/"
        },
        "id": "G_oPpXv0jtyh",
        "outputId": "337cdc42-6079-4b85-b22b-d272afb4d7d6"
      },
      "execution_count": 20,
      "outputs": [
        {
          "output_type": "stream",
          "name": "stdout",
          "text": [
            "Model: \"model_5\"\n",
            "_________________________________________________________________\n",
            " Layer (type)                Output Shape              Param #   \n",
            "=================================================================\n",
            " input (InputLayer)          [(None, 64, 64, 3)]       0         \n",
            "                                                                 \n",
            " cnn01 (Conv2D)              (None, 64, 64, 16)        448       \n",
            "                                                                 \n",
            " pool01 (MaxPooling2D)       (None, 32, 32, 16)        0         \n",
            "                                                                 \n",
            " cnn02 (Conv2D)              (None, 32, 32, 64)        9280      \n",
            "                                                                 \n",
            " pool02 (MaxPooling2D)       (None, 16, 16, 64)        0         \n",
            "                                                                 \n",
            " cnn03 (Conv2D)              (None, 16, 16, 256)       147712    \n",
            "                                                                 \n",
            " pool03 (MaxPooling2D)       (None, 8, 8, 256)         0         \n",
            "                                                                 \n",
            " cnn04 (Conv2D)              (None, 8, 8, 1024)        2360320   \n",
            "                                                                 \n",
            " pool04 (MaxPooling2D)       (None, 4, 4, 1024)        0         \n",
            "                                                                 \n",
            " cnn05 (Conv2D)              (None, 2, 2, 2048)        18876416  \n",
            "                                                                 \n",
            " pool05 (MaxPooling2D)       (None, 1, 1, 2048)        0         \n",
            "                                                                 \n",
            " flatten (Flatten)           (None, 2048)              0         \n",
            "                                                                 \n",
            " dense01 (Dense)             (None, 128)               262272    \n",
            "                                                                 \n",
            " output (Dense)              (None, 1)                 129       \n",
            "                                                                 \n",
            "=================================================================\n",
            "Total params: 21,656,577\n",
            "Trainable params: 21,656,577\n",
            "Non-trainable params: 0\n",
            "_________________________________________________________________\n"
          ]
        }
      ]
    },
    {
      "cell_type": "code",
      "source": [
        "# TFのバグでこのように書く\n",
        "\n",
        "#model.compile(optimizer='adam', loss='MSE', metrics=['MAE'])\n",
        "model.compile(optimizer=tf.keras.optimizers.Adam(learning_rate=0.0021), loss='MSE', metrics=['MAE'])\n",
        "# 訓練の実施\n",
        "model.fit(train_ds, epochs=80, validation_data=valid_ds)"
      ],
      "metadata": {
        "id": "_UX0D7qgmSYq",
        "colab": {
          "base_uri": "https://localhost:8080/"
        },
        "outputId": "f1ad063f-1905-41af-aca0-2a9248c7dab9"
      },
      "execution_count": 35,
      "outputs": [
        {
          "output_type": "stream",
          "name": "stdout",
          "text": [
            "Epoch 1/80\n",
            "104/104 [==============================] - 8s 51ms/step - loss: 1900.9659 - MAE: 21.2394 - val_loss: 4995.2988 - val_MAE: 22.9846\n",
            "Epoch 2/80\n",
            "104/104 [==============================] - 5s 52ms/step - loss: 692.4622 - MAE: 11.7626 - val_loss: 2970.5532 - val_MAE: 28.1006\n",
            "Epoch 3/80\n",
            "104/104 [==============================] - 5s 44ms/step - loss: 1459.4127 - MAE: 20.6603 - val_loss: 4284.3203 - val_MAE: 22.3484\n",
            "Epoch 4/80\n",
            "104/104 [==============================] - 5s 51ms/step - loss: 888.3599 - MAE: 14.2488 - val_loss: 4371.5308 - val_MAE: 20.9913\n",
            "Epoch 5/80\n",
            "104/104 [==============================] - 5s 45ms/step - loss: 4304.4653 - MAE: 33.1199 - val_loss: 13160.5557 - val_MAE: 56.6990\n",
            "Epoch 6/80\n",
            "104/104 [==============================] - 4s 42ms/step - loss: 4010.7722 - MAE: 34.2135 - val_loss: 5102.8916 - val_MAE: 36.8430\n",
            "Epoch 7/80\n",
            "104/104 [==============================] - 5s 51ms/step - loss: 1156.0740 - MAE: 18.6492 - val_loss: 3328.8340 - val_MAE: 24.8525\n",
            "Epoch 8/80\n",
            "104/104 [==============================] - 5s 44ms/step - loss: 814.1840 - MAE: 13.9491 - val_loss: 3280.1318 - val_MAE: 22.0164\n",
            "Epoch 9/80\n",
            "104/104 [==============================] - 5s 51ms/step - loss: 763.0300 - MAE: 12.9431 - val_loss: 2434.1326 - val_MAE: 18.2952\n",
            "Epoch 10/80\n",
            "104/104 [==============================] - 5s 45ms/step - loss: 626.5806 - MAE: 10.9773 - val_loss: 2469.3606 - val_MAE: 19.0566\n",
            "Epoch 11/80\n",
            "104/104 [==============================] - 6s 56ms/step - loss: 627.0212 - MAE: 10.8248 - val_loss: 2649.4817 - val_MAE: 25.1436\n",
            "Epoch 12/80\n",
            "104/104 [==============================] - 5s 53ms/step - loss: 802.8123 - MAE: 13.5371 - val_loss: 2936.8169 - val_MAE: 17.9642\n",
            "Epoch 13/80\n",
            "104/104 [==============================] - 5s 45ms/step - loss: 555.8585 - MAE: 9.4982 - val_loss: 3219.0549 - val_MAE: 23.4768\n",
            "Epoch 14/80\n",
            "104/104 [==============================] - 5s 44ms/step - loss: 577.8220 - MAE: 9.7583 - val_loss: 2560.8650 - val_MAE: 17.1540\n",
            "Epoch 15/80\n",
            "104/104 [==============================] - 5s 52ms/step - loss: 1051.6774 - MAE: 16.2017 - val_loss: 2372.9514 - val_MAE: 18.3686\n",
            "Epoch 16/80\n",
            "104/104 [==============================] - 5s 44ms/step - loss: 1414.9825 - MAE: 18.8283 - val_loss: 2643.5244 - val_MAE: 27.4477\n",
            "Epoch 17/80\n",
            "104/104 [==============================] - 5s 51ms/step - loss: 1201.7744 - MAE: 17.9668 - val_loss: 3136.6345 - val_MAE: 19.4660\n",
            "Epoch 18/80\n",
            "104/104 [==============================] - 5s 45ms/step - loss: 1055.7245 - MAE: 16.5172 - val_loss: 3362.8301 - val_MAE: 19.4069\n",
            "Epoch 19/80\n",
            "104/104 [==============================] - 5s 44ms/step - loss: 889.6857 - MAE: 13.7521 - val_loss: 2644.1296 - val_MAE: 21.8022\n",
            "Epoch 20/80\n",
            "104/104 [==============================] - 5s 52ms/step - loss: 750.7820 - MAE: 12.7775 - val_loss: 2867.3127 - val_MAE: 17.9479\n",
            "Epoch 21/80\n",
            "104/104 [==============================] - 5s 44ms/step - loss: 742.1982 - MAE: 12.0459 - val_loss: 3555.6621 - val_MAE: 22.5364\n",
            "Epoch 22/80\n",
            "104/104 [==============================] - 5s 51ms/step - loss: 780.0360 - MAE: 12.5537 - val_loss: 2802.0413 - val_MAE: 20.5403\n",
            "Epoch 23/80\n",
            "104/104 [==============================] - 5s 44ms/step - loss: 618.7576 - MAE: 9.7114 - val_loss: 4202.8223 - val_MAE: 24.4467\n",
            "Epoch 24/80\n",
            "104/104 [==============================] - 5s 45ms/step - loss: 669.0275 - MAE: 10.6348 - val_loss: 2342.8098 - val_MAE: 18.6655\n",
            "Epoch 25/80\n",
            "104/104 [==============================] - 5s 52ms/step - loss: 530.3941 - MAE: 8.6499 - val_loss: 2620.8086 - val_MAE: 18.1235\n",
            "Epoch 26/80\n",
            "104/104 [==============================] - 5s 43ms/step - loss: 578.0903 - MAE: 9.1748 - val_loss: 3037.4919 - val_MAE: 21.2365\n",
            "Epoch 27/80\n",
            "104/104 [==============================] - 5s 50ms/step - loss: 787.3022 - MAE: 13.0987 - val_loss: 2408.1499 - val_MAE: 25.7172\n",
            "Epoch 28/80\n",
            "104/104 [==============================] - 5s 45ms/step - loss: 911.2914 - MAE: 15.1757 - val_loss: 2409.2356 - val_MAE: 22.0898\n",
            "Epoch 29/80\n",
            "104/104 [==============================] - 5s 52ms/step - loss: 7537.5249 - MAE: 50.9206 - val_loss: 53105.1172 - val_MAE: 127.0562\n",
            "Epoch 30/80\n",
            "104/104 [==============================] - 5s 44ms/step - loss: 17120.6270 - MAE: 76.1553 - val_loss: 13469.8623 - val_MAE: 52.3878\n",
            "Epoch 31/80\n",
            "104/104 [==============================] - 5s 51ms/step - loss: 1887.4489 - MAE: 22.8529 - val_loss: 2626.2681 - val_MAE: 22.7591\n",
            "Epoch 32/80\n",
            "104/104 [==============================] - 5s 48ms/step - loss: 866.6743 - MAE: 14.6398 - val_loss: 2836.0115 - val_MAE: 22.5211\n",
            "Epoch 33/80\n",
            "104/104 [==============================] - 5s 50ms/step - loss: 617.4688 - MAE: 11.0443 - val_loss: 2474.3472 - val_MAE: 19.3539\n",
            "Epoch 34/80\n",
            "104/104 [==============================] - 5s 44ms/step - loss: 586.9873 - MAE: 10.3804 - val_loss: 2529.6064 - val_MAE: 19.0557\n",
            "Epoch 35/80\n",
            "104/104 [==============================] - 6s 54ms/step - loss: 601.8859 - MAE: 10.7830 - val_loss: 2567.8782 - val_MAE: 19.1584\n",
            "Epoch 36/80\n",
            "104/104 [==============================] - 5s 49ms/step - loss: 540.8803 - MAE: 9.5902 - val_loss: 2889.7195 - val_MAE: 23.2297\n",
            "Epoch 37/80\n",
            "104/104 [==============================] - 5s 48ms/step - loss: 574.6541 - MAE: 10.2205 - val_loss: 3187.0469 - val_MAE: 23.4281\n",
            "Epoch 38/80\n",
            "104/104 [==============================] - 5s 45ms/step - loss: 534.5411 - MAE: 9.1883 - val_loss: 2340.1746 - val_MAE: 17.4551\n",
            "Epoch 39/80\n",
            "104/104 [==============================] - 5s 51ms/step - loss: 500.2421 - MAE: 8.6130 - val_loss: 2303.3220 - val_MAE: 27.3298\n",
            "Epoch 40/80\n",
            "104/104 [==============================] - 5s 44ms/step - loss: 514.5954 - MAE: 8.9090 - val_loss: 2310.9119 - val_MAE: 27.9672\n",
            "Epoch 41/80\n",
            "104/104 [==============================] - 5s 49ms/step - loss: 524.0413 - MAE: 8.4999 - val_loss: 2167.7715 - val_MAE: 22.0289\n",
            "Epoch 42/80\n",
            "104/104 [==============================] - 5s 45ms/step - loss: 498.9414 - MAE: 8.2103 - val_loss: 2719.9189 - val_MAE: 23.3131\n",
            "Epoch 43/80\n",
            "104/104 [==============================] - 5s 52ms/step - loss: 533.3209 - MAE: 8.9622 - val_loss: 2572.0371 - val_MAE: 20.3917\n",
            "Epoch 44/80\n",
            "104/104 [==============================] - 5s 51ms/step - loss: 581.5079 - MAE: 9.6942 - val_loss: 2591.0186 - val_MAE: 18.6654\n",
            "Epoch 45/80\n",
            "104/104 [==============================] - 5s 46ms/step - loss: 645.8694 - MAE: 10.1733 - val_loss: 3233.1460 - val_MAE: 27.9544\n",
            "Epoch 46/80\n",
            "104/104 [==============================] - 5s 52ms/step - loss: 573.5735 - MAE: 9.7768 - val_loss: 2602.5618 - val_MAE: 18.5535\n",
            "Epoch 47/80\n",
            "104/104 [==============================] - 5s 45ms/step - loss: 987.4021 - MAE: 14.0892 - val_loss: 2579.2432 - val_MAE: 25.2684\n",
            "Epoch 48/80\n",
            "104/104 [==============================] - 5s 50ms/step - loss: 1250.4543 - MAE: 18.5397 - val_loss: 4127.7383 - val_MAE: 36.0680\n",
            "Epoch 49/80\n",
            "104/104 [==============================] - 5s 45ms/step - loss: 1076.7365 - MAE: 16.0469 - val_loss: 3826.7290 - val_MAE: 27.4479\n",
            "Epoch 50/80\n",
            "104/104 [==============================] - 5s 52ms/step - loss: 2229.2297 - MAE: 25.2014 - val_loss: 4740.4580 - val_MAE: 37.5888\n",
            "Epoch 51/80\n",
            "104/104 [==============================] - 5s 45ms/step - loss: 1530.1232 - MAE: 21.1611 - val_loss: 3630.0259 - val_MAE: 30.2012\n",
            "Epoch 52/80\n",
            "104/104 [==============================] - 6s 55ms/step - loss: 1150.3323 - MAE: 17.3828 - val_loss: 3879.6543 - val_MAE: 20.8638\n",
            "Epoch 53/80\n",
            "104/104 [==============================] - 5s 45ms/step - loss: 684.7937 - MAE: 11.4861 - val_loss: 2971.6448 - val_MAE: 18.0122\n",
            "Epoch 54/80\n",
            "104/104 [==============================] - 5s 45ms/step - loss: 662.6453 - MAE: 10.8431 - val_loss: 2635.1406 - val_MAE: 25.3100\n",
            "Epoch 55/80\n",
            "104/104 [==============================] - 5s 51ms/step - loss: 764.9270 - MAE: 12.7534 - val_loss: 2228.5515 - val_MAE: 18.8967\n",
            "Epoch 56/80\n",
            "104/104 [==============================] - 6s 53ms/step - loss: 561.0606 - MAE: 9.3139 - val_loss: 2751.7532 - val_MAE: 18.1586\n",
            "Epoch 57/80\n",
            "104/104 [==============================] - 5s 46ms/step - loss: 683.8330 - MAE: 11.3058 - val_loss: 2924.3928 - val_MAE: 19.8663\n",
            "Epoch 58/80\n",
            "104/104 [==============================] - 6s 53ms/step - loss: 587.0068 - MAE: 9.5251 - val_loss: 2805.4460 - val_MAE: 27.6983\n",
            "Epoch 59/80\n",
            "104/104 [==============================] - 6s 60ms/step - loss: 541.2444 - MAE: 9.1580 - val_loss: 2924.7095 - val_MAE: 18.3866\n",
            "Epoch 60/80\n",
            "104/104 [==============================] - 5s 46ms/step - loss: 842.5641 - MAE: 13.8682 - val_loss: 3214.7974 - val_MAE: 22.0527\n",
            "Epoch 61/80\n",
            "104/104 [==============================] - 6s 54ms/step - loss: 1299.0277 - MAE: 17.1878 - val_loss: 5696.9248 - val_MAE: 61.1368\n",
            "Epoch 62/80\n",
            "104/104 [==============================] - 5s 45ms/step - loss: 1245.4116 - MAE: 18.4124 - val_loss: 3376.1694 - val_MAE: 26.7370\n",
            "Epoch 63/80\n",
            "104/104 [==============================] - 5s 48ms/step - loss: 763.1849 - MAE: 12.3457 - val_loss: 3316.3975 - val_MAE: 20.4592\n",
            "Epoch 64/80\n",
            "104/104 [==============================] - 5s 49ms/step - loss: 686.0934 - MAE: 11.3720 - val_loss: 2119.2378 - val_MAE: 16.2959\n",
            "Epoch 65/80\n",
            "104/104 [==============================] - 5s 45ms/step - loss: 781.9103 - MAE: 12.7025 - val_loss: 2271.0120 - val_MAE: 20.5139\n",
            "Epoch 66/80\n",
            "104/104 [==============================] - 6s 53ms/step - loss: 801.9835 - MAE: 13.2479 - val_loss: 2730.0874 - val_MAE: 21.5977\n",
            "Epoch 67/80\n",
            "104/104 [==============================] - 5s 48ms/step - loss: 677.0886 - MAE: 11.4811 - val_loss: 3946.2205 - val_MAE: 27.8348\n",
            "Epoch 68/80\n",
            "104/104 [==============================] - 5s 49ms/step - loss: 2429.5532 - MAE: 26.6771 - val_loss: 6586.7554 - val_MAE: 34.3168\n",
            "Epoch 69/80\n",
            "104/104 [==============================] - 5s 48ms/step - loss: 3985.4453 - MAE: 34.8537 - val_loss: 7934.7012 - val_MAE: 41.5073\n",
            "Epoch 70/80\n",
            "104/104 [==============================] - 5s 51ms/step - loss: 1846.5270 - MAE: 21.9596 - val_loss: 3725.0425 - val_MAE: 21.9910\n",
            "Epoch 71/80\n",
            "104/104 [==============================] - 5s 47ms/step - loss: 740.0862 - MAE: 12.2130 - val_loss: 4957.1118 - val_MAE: 20.2476\n",
            "Epoch 72/80\n",
            "104/104 [==============================] - 5s 50ms/step - loss: 739.3253 - MAE: 11.8494 - val_loss: 2202.0588 - val_MAE: 27.1317\n",
            "Epoch 73/80\n",
            "104/104 [==============================] - 5s 51ms/step - loss: 521.6235 - MAE: 8.5236 - val_loss: 2619.8884 - val_MAE: 17.4185\n",
            "Epoch 74/80\n",
            "104/104 [==============================] - 5s 47ms/step - loss: 529.9889 - MAE: 8.2891 - val_loss: 2445.7888 - val_MAE: 20.7855\n",
            "Epoch 75/80\n",
            "104/104 [==============================] - 5s 50ms/step - loss: 564.6588 - MAE: 9.3490 - val_loss: 2341.1531 - val_MAE: 17.3171\n",
            "Epoch 76/80\n",
            "104/104 [==============================] - 5s 45ms/step - loss: 458.7828 - MAE: 6.9453 - val_loss: 2715.0168 - val_MAE: 16.1164\n",
            "Epoch 77/80\n",
            "104/104 [==============================] - 6s 54ms/step - loss: 525.6317 - MAE: 8.2816 - val_loss: 3493.9565 - val_MAE: 19.1270\n",
            "Epoch 78/80\n",
            "104/104 [==============================] - 5s 45ms/step - loss: 513.2686 - MAE: 8.1889 - val_loss: 4151.0815 - val_MAE: 18.7867\n",
            "Epoch 79/80\n",
            "104/104 [==============================] - 5s 50ms/step - loss: 626.4828 - MAE: 10.3111 - val_loss: 3971.0815 - val_MAE: 20.8659\n",
            "Epoch 80/80\n",
            "104/104 [==============================] - 5s 48ms/step - loss: 747.2759 - MAE: 12.1262 - val_loss: 5211.0122 - val_MAE: 19.7930\n"
          ]
        },
        {
          "output_type": "execute_result",
          "data": {
            "text/plain": [
              "<keras.callbacks.History at 0x7f6765355b70>"
            ]
          },
          "metadata": {},
          "execution_count": 35
        }
      ]
    },
    {
      "cell_type": "code",
      "source": [
        "# 評価\n",
        "errors = []\n",
        "for file in glob.glob('data/test/*.png'):\n",
        "    m = re.search(r'/(\\d+)_', file) # ちょっと違うパターンの書き方\n",
        "    label = float( m.groups()[0] ) # 実数に変換\n",
        "    img = cv2.imread(file)\n",
        "    img = img.reshape(1, 64, 64, 3)\n",
        "    img = np.float32(img) / 255.\n",
        "    pred = model.predict(img)\n",
        "    estimate = pred[0][0]\n",
        "    error = abs(label - estimate) / label * 100\n",
        "    print(f'Label {label}, Estimate {estimate}, Error Rate: {error}')\n",
        "    errors.append(error)\n",
        "ave = np.average(np.array(errors))\n",
        "print(f'平均誤り率 {ave:.2f}%')"
      ],
      "metadata": {
        "colab": {
          "base_uri": "https://localhost:8080/"
        },
        "id": "Ujab8-eEGzrX",
        "outputId": "64174ded-2709-47e8-99fa-7cab9035d157"
      },
      "execution_count": 36,
      "outputs": [
        {
          "output_type": "stream",
          "name": "stdout",
          "text": [
            "1/1 [==============================] - 0s 93ms/step\n",
            "Label 2400.0, Estimate 2398.686279296875, Error Rate: 0.054738362630208336\n",
            "1/1 [==============================] - 0s 22ms/step\n",
            "Label 5600.0, Estimate 5535.888671875, Error Rate: 1.1448451450892858\n",
            "1/1 [==============================] - 0s 23ms/step\n",
            "Label 2200.0, Estimate 2227.2236328125, Error Rate: 1.2374378551136365\n",
            "1/1 [==============================] - 0s 22ms/step\n",
            "Label 390.0, Estimate 387.87640380859375, Error Rate: 0.5445118439503205\n",
            "1/1 [==============================] - 0s 24ms/step\n",
            "Label 1800.0, Estimate 1792.8099365234375, Error Rate: 0.3994479709201389\n",
            "1/1 [==============================] - 0s 22ms/step\n",
            "Label 430.0, Estimate 426.5791931152344, Error Rate: 0.7955364848292151\n",
            "1/1 [==============================] - 0s 24ms/step\n",
            "Label 3300.0, Estimate 3305.430908203125, Error Rate: 0.16457297585227273\n",
            "1/1 [==============================] - 0s 22ms/step\n",
            "Label 3000.0, Estimate 3005.271728515625, Error Rate: 0.17572428385416666\n",
            "1/1 [==============================] - 0s 25ms/step\n",
            "Label 620.0, Estimate 614.0155639648438, Error Rate: 0.9652316185735887\n",
            "1/1 [==============================] - 0s 21ms/step\n",
            "Label 160.0, Estimate 159.28271484375, Error Rate: 0.44830322265625\n",
            "1/1 [==============================] - 0s 24ms/step\n",
            "Label 9100.0, Estimate 9073.1650390625, Error Rate: 0.29488968063186816\n",
            "1/1 [==============================] - 0s 24ms/step\n",
            "Label 1600.0, Estimate 1593.4541015625, Error Rate: 0.40911865234375\n",
            "平均誤り率 0.55%\n"
          ]
        }
      ]
    }
  ]
}