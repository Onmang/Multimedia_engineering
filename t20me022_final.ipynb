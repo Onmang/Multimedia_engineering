{
  "nbformat": 4,
  "nbformat_minor": 0,
  "metadata": {
    "colab": {
      "provenance": [],
      "gpuType": "T4",
      "authorship_tag": "ABX9TyORwDSsp+WTJMSB6oaavdN+",
      "include_colab_link": true
    },
    "kernelspec": {
      "name": "python3",
      "display_name": "Python 3"
    },
    "language_info": {
      "name": "python"
    },
    "accelerator": "GPU"
  },
  "cells": [
    {
      "cell_type": "markdown",
      "metadata": {
        "id": "view-in-github",
        "colab_type": "text"
      },
      "source": [
        "<a href=\"https://colab.research.google.com/github/Onmang/Multimedia_engineering/blob/master/t20me022_final.ipynb\" target=\"_parent\"><img src=\"https://colab.research.google.com/assets/colab-badge.svg\" alt=\"Open In Colab\"/></a>"
      ]
    },
    {
      "cell_type": "markdown",
      "source": [
        "期末レポート-音声単語35種類の分類\n",
        "\n",
        "T20ME022 グエンコンフィ\n",
        "\n",
        "課題と一緒に提示された参考コードに改良を施し、分類精度の向上に努める。\n",
        "行った試行を次に示す。\n",
        "\n",
        "\n",
        "0.   参考コードをそのまま実行し、分類精度の確認を行った。\n",
        "\n",
        "\n",
        "> epochs:50,  結果：61.0%\n",
        "\n",
        "> epochs:100,  結果：63.4%\n",
        "\n",
        "  \n",
        "> エポック数ではこのモデルの分類精度を上げることは難しいそうである。\n",
        "\n",
        "\n",
        "\n",
        "\n",
        "\n",
        "1.   \n",
        "2.   リスト項目\n",
        "\n",
        "\n"
      ],
      "metadata": {
        "id": "Hr0lFGVdo7hA"
      }
    },
    {
      "cell_type": "code",
      "source": [
        "from google.colab import drive\n",
        "drive.mount('/content/drive')"
      ],
      "metadata": {
        "colab": {
          "base_uri": "https://localhost:8080/"
        },
        "id": "YTXIY6NcMN1O",
        "outputId": "e7a8f1db-81c4-4211-ae71-6feb73bf6c6d"
      },
      "execution_count": 1,
      "outputs": [
        {
          "output_type": "stream",
          "name": "stdout",
          "text": [
            "Mounted at /content/drive\n"
          ]
        }
      ]
    },
    {
      "cell_type": "code",
      "source": [
        "!pip install tensorflow==2.10.0"
      ],
      "metadata": {
        "colab": {
          "base_uri": "https://localhost:8080/",
          "height": 1000
        },
        "id": "-hOxPRrMPmad",
        "outputId": "9ed532e5-ec22-46fc-f7a3-b58444a76d0c"
      },
      "execution_count": 2,
      "outputs": [
        {
          "output_type": "stream",
          "name": "stdout",
          "text": [
            "Collecting tensorflow==2.10.0\n",
            "  Downloading tensorflow-2.10.0-cp310-cp310-manylinux_2_17_x86_64.manylinux2014_x86_64.whl (578.0 MB)\n",
            "\u001b[2K     \u001b[90m━━━━━━━━━━━━━━━━━━━━━━━━━━━━━━━━━━━━━━━\u001b[0m \u001b[32m578.0/578.0 MB\u001b[0m \u001b[31m2.1 MB/s\u001b[0m eta \u001b[36m0:00:00\u001b[0m\n",
            "\u001b[?25hRequirement already satisfied: absl-py>=1.0.0 in /usr/local/lib/python3.10/dist-packages (from tensorflow==2.10.0) (1.4.0)\n",
            "Requirement already satisfied: astunparse>=1.6.0 in /usr/local/lib/python3.10/dist-packages (from tensorflow==2.10.0) (1.6.3)\n",
            "Requirement already satisfied: flatbuffers>=2.0 in /usr/local/lib/python3.10/dist-packages (from tensorflow==2.10.0) (23.5.26)\n",
            "Requirement already satisfied: gast<=0.4.0,>=0.2.1 in /usr/local/lib/python3.10/dist-packages (from tensorflow==2.10.0) (0.4.0)\n",
            "Requirement already satisfied: google-pasta>=0.1.1 in /usr/local/lib/python3.10/dist-packages (from tensorflow==2.10.0) (0.2.0)\n",
            "Requirement already satisfied: grpcio<2.0,>=1.24.3 in /usr/local/lib/python3.10/dist-packages (from tensorflow==2.10.0) (1.56.2)\n",
            "Requirement already satisfied: h5py>=2.9.0 in /usr/local/lib/python3.10/dist-packages (from tensorflow==2.10.0) (3.8.0)\n",
            "Collecting keras<2.11,>=2.10.0 (from tensorflow==2.10.0)\n",
            "  Downloading keras-2.10.0-py2.py3-none-any.whl (1.7 MB)\n",
            "\u001b[2K     \u001b[90m━━━━━━━━━━━━━━━━━━━━━━━━━━━━━━━━━━━━━━━━\u001b[0m \u001b[32m1.7/1.7 MB\u001b[0m \u001b[31m55.6 MB/s\u001b[0m eta \u001b[36m0:00:00\u001b[0m\n",
            "\u001b[?25hCollecting keras-preprocessing>=1.1.1 (from tensorflow==2.10.0)\n",
            "  Downloading Keras_Preprocessing-1.1.2-py2.py3-none-any.whl (42 kB)\n",
            "\u001b[2K     \u001b[90m━━━━━━━━━━━━━━━━━━━━━━━━━━━━━━━━━━━━━━━━\u001b[0m \u001b[32m42.6/42.6 kB\u001b[0m \u001b[31m5.6 MB/s\u001b[0m eta \u001b[36m0:00:00\u001b[0m\n",
            "\u001b[?25hRequirement already satisfied: libclang>=13.0.0 in /usr/local/lib/python3.10/dist-packages (from tensorflow==2.10.0) (16.0.6)\n",
            "Requirement already satisfied: numpy>=1.20 in /usr/local/lib/python3.10/dist-packages (from tensorflow==2.10.0) (1.22.4)\n",
            "Requirement already satisfied: opt-einsum>=2.3.2 in /usr/local/lib/python3.10/dist-packages (from tensorflow==2.10.0) (3.3.0)\n",
            "Requirement already satisfied: packaging in /usr/local/lib/python3.10/dist-packages (from tensorflow==2.10.0) (23.1)\n",
            "Collecting protobuf<3.20,>=3.9.2 (from tensorflow==2.10.0)\n",
            "  Downloading protobuf-3.19.6-cp310-cp310-manylinux_2_17_x86_64.manylinux2014_x86_64.whl (1.1 MB)\n",
            "\u001b[2K     \u001b[90m━━━━━━━━━━━━━━━━━━━━━━━━━━━━━━━━━━━━━━━━\u001b[0m \u001b[32m1.1/1.1 MB\u001b[0m \u001b[31m65.1 MB/s\u001b[0m eta \u001b[36m0:00:00\u001b[0m\n",
            "\u001b[?25hRequirement already satisfied: setuptools in /usr/local/lib/python3.10/dist-packages (from tensorflow==2.10.0) (67.7.2)\n",
            "Requirement already satisfied: six>=1.12.0 in /usr/local/lib/python3.10/dist-packages (from tensorflow==2.10.0) (1.16.0)\n",
            "Collecting tensorboard<2.11,>=2.10 (from tensorflow==2.10.0)\n",
            "  Downloading tensorboard-2.10.1-py3-none-any.whl (5.9 MB)\n",
            "\u001b[2K     \u001b[90m━━━━━━━━━━━━━━━━━━━━━━━━━━━━━━━━━━━━━━━━\u001b[0m \u001b[32m5.9/5.9 MB\u001b[0m \u001b[31m81.7 MB/s\u001b[0m eta \u001b[36m0:00:00\u001b[0m\n",
            "\u001b[?25hRequirement already satisfied: tensorflow-io-gcs-filesystem>=0.23.1 in /usr/local/lib/python3.10/dist-packages (from tensorflow==2.10.0) (0.32.0)\n",
            "Collecting tensorflow-estimator<2.11,>=2.10.0 (from tensorflow==2.10.0)\n",
            "  Downloading tensorflow_estimator-2.10.0-py2.py3-none-any.whl (438 kB)\n",
            "\u001b[2K     \u001b[90m━━━━━━━━━━━━━━━━━━━━━━━━━━━━━━━━━━━━━━\u001b[0m \u001b[32m438.7/438.7 kB\u001b[0m \u001b[31m39.8 MB/s\u001b[0m eta \u001b[36m0:00:00\u001b[0m\n",
            "\u001b[?25hRequirement already satisfied: termcolor>=1.1.0 in /usr/local/lib/python3.10/dist-packages (from tensorflow==2.10.0) (2.3.0)\n",
            "Requirement already satisfied: typing-extensions>=3.6.6 in /usr/local/lib/python3.10/dist-packages (from tensorflow==2.10.0) (4.7.1)\n",
            "Requirement already satisfied: wrapt>=1.11.0 in /usr/local/lib/python3.10/dist-packages (from tensorflow==2.10.0) (1.14.1)\n",
            "Requirement already satisfied: wheel<1.0,>=0.23.0 in /usr/local/lib/python3.10/dist-packages (from astunparse>=1.6.0->tensorflow==2.10.0) (0.41.0)\n",
            "Requirement already satisfied: google-auth<3,>=1.6.3 in /usr/local/lib/python3.10/dist-packages (from tensorboard<2.11,>=2.10->tensorflow==2.10.0) (2.17.3)\n",
            "Collecting google-auth-oauthlib<0.5,>=0.4.1 (from tensorboard<2.11,>=2.10->tensorflow==2.10.0)\n",
            "  Downloading google_auth_oauthlib-0.4.6-py2.py3-none-any.whl (18 kB)\n",
            "Requirement already satisfied: markdown>=2.6.8 in /usr/local/lib/python3.10/dist-packages (from tensorboard<2.11,>=2.10->tensorflow==2.10.0) (3.4.4)\n",
            "Requirement already satisfied: requests<3,>=2.21.0 in /usr/local/lib/python3.10/dist-packages (from tensorboard<2.11,>=2.10->tensorflow==2.10.0) (2.27.1)\n",
            "Collecting tensorboard-data-server<0.7.0,>=0.6.0 (from tensorboard<2.11,>=2.10->tensorflow==2.10.0)\n",
            "  Downloading tensorboard_data_server-0.6.1-py3-none-manylinux2010_x86_64.whl (4.9 MB)\n",
            "\u001b[2K     \u001b[90m━━━━━━━━━━━━━━━━━━━━━━━━━━━━━━━━━━━━━━━━\u001b[0m \u001b[32m4.9/4.9 MB\u001b[0m \u001b[31m80.1 MB/s\u001b[0m eta \u001b[36m0:00:00\u001b[0m\n",
            "\u001b[?25hCollecting tensorboard-plugin-wit>=1.6.0 (from tensorboard<2.11,>=2.10->tensorflow==2.10.0)\n",
            "  Downloading tensorboard_plugin_wit-1.8.1-py3-none-any.whl (781 kB)\n",
            "\u001b[2K     \u001b[90m━━━━━━━━━━━━━━━━━━━━━━━━━━━━━━━━━━━━━━\u001b[0m \u001b[32m781.3/781.3 kB\u001b[0m \u001b[31m51.0 MB/s\u001b[0m eta \u001b[36m0:00:00\u001b[0m\n",
            "\u001b[?25hRequirement already satisfied: werkzeug>=1.0.1 in /usr/local/lib/python3.10/dist-packages (from tensorboard<2.11,>=2.10->tensorflow==2.10.0) (2.3.6)\n",
            "Requirement already satisfied: cachetools<6.0,>=2.0.0 in /usr/local/lib/python3.10/dist-packages (from google-auth<3,>=1.6.3->tensorboard<2.11,>=2.10->tensorflow==2.10.0) (5.3.1)\n",
            "Requirement already satisfied: pyasn1-modules>=0.2.1 in /usr/local/lib/python3.10/dist-packages (from google-auth<3,>=1.6.3->tensorboard<2.11,>=2.10->tensorflow==2.10.0) (0.3.0)\n",
            "Requirement already satisfied: rsa<5,>=3.1.4 in /usr/local/lib/python3.10/dist-packages (from google-auth<3,>=1.6.3->tensorboard<2.11,>=2.10->tensorflow==2.10.0) (4.9)\n",
            "Requirement already satisfied: requests-oauthlib>=0.7.0 in /usr/local/lib/python3.10/dist-packages (from google-auth-oauthlib<0.5,>=0.4.1->tensorboard<2.11,>=2.10->tensorflow==2.10.0) (1.3.1)\n",
            "Requirement already satisfied: urllib3<1.27,>=1.21.1 in /usr/local/lib/python3.10/dist-packages (from requests<3,>=2.21.0->tensorboard<2.11,>=2.10->tensorflow==2.10.0) (1.26.16)\n",
            "Requirement already satisfied: certifi>=2017.4.17 in /usr/local/lib/python3.10/dist-packages (from requests<3,>=2.21.0->tensorboard<2.11,>=2.10->tensorflow==2.10.0) (2023.7.22)\n",
            "Requirement already satisfied: charset-normalizer~=2.0.0 in /usr/local/lib/python3.10/dist-packages (from requests<3,>=2.21.0->tensorboard<2.11,>=2.10->tensorflow==2.10.0) (2.0.12)\n",
            "Requirement already satisfied: idna<4,>=2.5 in /usr/local/lib/python3.10/dist-packages (from requests<3,>=2.21.0->tensorboard<2.11,>=2.10->tensorflow==2.10.0) (3.4)\n",
            "Requirement already satisfied: MarkupSafe>=2.1.1 in /usr/local/lib/python3.10/dist-packages (from werkzeug>=1.0.1->tensorboard<2.11,>=2.10->tensorflow==2.10.0) (2.1.3)\n",
            "Requirement already satisfied: pyasn1<0.6.0,>=0.4.6 in /usr/local/lib/python3.10/dist-packages (from pyasn1-modules>=0.2.1->google-auth<3,>=1.6.3->tensorboard<2.11,>=2.10->tensorflow==2.10.0) (0.5.0)\n",
            "Requirement already satisfied: oauthlib>=3.0.0 in /usr/local/lib/python3.10/dist-packages (from requests-oauthlib>=0.7.0->google-auth-oauthlib<0.5,>=0.4.1->tensorboard<2.11,>=2.10->tensorflow==2.10.0) (3.2.2)\n",
            "Installing collected packages: tensorboard-plugin-wit, keras, tensorflow-estimator, tensorboard-data-server, protobuf, keras-preprocessing, google-auth-oauthlib, tensorboard, tensorflow\n",
            "  Attempting uninstall: keras\n",
            "    Found existing installation: keras 2.12.0\n",
            "    Uninstalling keras-2.12.0:\n",
            "      Successfully uninstalled keras-2.12.0\n",
            "  Attempting uninstall: tensorflow-estimator\n",
            "    Found existing installation: tensorflow-estimator 2.12.0\n",
            "    Uninstalling tensorflow-estimator-2.12.0:\n",
            "      Successfully uninstalled tensorflow-estimator-2.12.0\n",
            "  Attempting uninstall: tensorboard-data-server\n",
            "    Found existing installation: tensorboard-data-server 0.7.1\n",
            "    Uninstalling tensorboard-data-server-0.7.1:\n",
            "      Successfully uninstalled tensorboard-data-server-0.7.1\n",
            "  Attempting uninstall: protobuf\n",
            "    Found existing installation: protobuf 3.20.3\n",
            "    Uninstalling protobuf-3.20.3:\n",
            "      Successfully uninstalled protobuf-3.20.3\n",
            "  Attempting uninstall: google-auth-oauthlib\n",
            "    Found existing installation: google-auth-oauthlib 1.0.0\n",
            "    Uninstalling google-auth-oauthlib-1.0.0:\n",
            "      Successfully uninstalled google-auth-oauthlib-1.0.0\n",
            "  Attempting uninstall: tensorboard\n",
            "    Found existing installation: tensorboard 2.12.3\n",
            "    Uninstalling tensorboard-2.12.3:\n",
            "      Successfully uninstalled tensorboard-2.12.3\n",
            "  Attempting uninstall: tensorflow\n",
            "    Found existing installation: tensorflow 2.12.0\n",
            "    Uninstalling tensorflow-2.12.0:\n",
            "      Successfully uninstalled tensorflow-2.12.0\n",
            "\u001b[31mERROR: pip's dependency resolver does not currently take into account all the packages that are installed. This behaviour is the source of the following dependency conflicts.\n",
            "tensorflow-datasets 4.9.2 requires protobuf>=3.20, but you have protobuf 3.19.6 which is incompatible.\n",
            "tensorflow-metadata 1.13.1 requires protobuf<5,>=3.20.3, but you have protobuf 3.19.6 which is incompatible.\u001b[0m\u001b[31m\n",
            "\u001b[0mSuccessfully installed google-auth-oauthlib-0.4.6 keras-2.10.0 keras-preprocessing-1.1.2 protobuf-3.19.6 tensorboard-2.10.1 tensorboard-data-server-0.6.1 tensorboard-plugin-wit-1.8.1 tensorflow-2.10.0 tensorflow-estimator-2.10.0\n"
          ]
        },
        {
          "output_type": "display_data",
          "data": {
            "application/vnd.colab-display-data+json": {
              "pip_warning": {
                "packages": [
                  "google"
                ]
              }
            }
          },
          "metadata": {}
        }
      ]
    },
    {
      "cell_type": "code",
      "source": [
        "import tensorflow\n",
        "tensorflow.__version__"
      ],
      "metadata": {
        "colab": {
          "base_uri": "https://localhost:8080/",
          "height": 35
        },
        "id": "M-DeTWtcPtq8",
        "outputId": "a45695f0-2456-4db2-fbce-5be773dda784"
      },
      "execution_count": 3,
      "outputs": [
        {
          "output_type": "execute_result",
          "data": {
            "text/plain": [
              "'2.10.0'"
            ],
            "application/vnd.google.colaboratory.intrinsic+json": {
              "type": "string"
            }
          },
          "metadata": {},
          "execution_count": 3
        }
      ]
    },
    {
      "cell_type": "code",
      "source": [
        "import pathlib\n",
        "import matplotlib.pyplot as plt # グラフを書くためのライブラリ\n",
        "import numpy as np # NumPy\n",
        "import tensorflow as tf\n",
        "from tensorflow.keras.layers import Input, Masking, LSTM, Dense, Bidirectional\n",
        "from tensorflow.keras.preprocessing.sequence import pad_sequences # パディング用\n",
        "from scipy.io import wavfile # wavファイル読み込み用\n",
        "import librosa # MFCC計算用\n",
        "import glob # ファイル一覧を取得するためのライブラリ\n",
        "import os\n"
      ],
      "metadata": {
        "id": "_OOH-hrwMXUD"
      },
      "execution_count": 7,
      "outputs": []
    },
    {
      "cell_type": "code",
      "source": [
        "!unzip /content/drive/MyDrive/speech_commands.zip"
      ],
      "metadata": {
        "id": "GClXIrzdMeQR"
      },
      "execution_count": null,
      "outputs": []
    },
    {
      "cell_type": "code",
      "source": [
        "# ファイルリストから音声ファイルの一覧を作成する\n",
        "train_listfile = 'speech_commands/00_train.txt'\n",
        "valid_listfile = 'speech_commands/01_valid.txt'\n",
        "test_listfile = 'speech_commands/02_test.txt'\n",
        "\n",
        "def get_filelist(list):\n",
        "  with open(list) as f:\n",
        "    lines = f.readlines()\n",
        "  return [os.path.join('speech_commands', l.strip()) for l in lines]\n",
        "\n",
        "train_list = get_filelist(train_listfile)\n",
        "valid_list = get_filelist(valid_listfile)\n",
        "test_list = get_filelist(test_listfile)"
      ],
      "metadata": {
        "id": "-n8GUEg4SWW2"
      },
      "execution_count": 8,
      "outputs": []
    },
    {
      "cell_type": "code",
      "source": [
        "# ラベル作成（アルファベット順でソート）\n",
        "labels = sorted([d for d in os.listdir('speech_commands') if os.path.isdir(os.path.join('speech_commands', d))]) # ラベル名を取得する\n",
        "# ラベルの確認\n",
        "print(labels)\n"
      ],
      "metadata": {
        "colab": {
          "base_uri": "https://localhost:8080/"
        },
        "id": "GShEwFbXS5YW",
        "outputId": "e2b292f3-23ab-414e-85e1-19daafbfbc39"
      },
      "execution_count": 9,
      "outputs": [
        {
          "output_type": "stream",
          "name": "stdout",
          "text": [
            "['backward', 'bed', 'bird', 'cat', 'dog', 'down', 'eight', 'five', 'follow', 'forward', 'four', 'go', 'happy', 'house', 'learn', 'left', 'marvin', 'nine', 'no', 'off', 'on', 'one', 'right', 'seven', 'sheila', 'six', 'stop', 'three', 'tree', 'two', 'up', 'visual', 'wow', 'yes', 'zero']\n"
          ]
        }
      ]
    },
    {
      "cell_type": "code",
      "source": [
        "# ファイル名からラベル情報を取得する関数\n",
        "def get_label(filename):\n",
        "  cls = os.path.dirname(filename).split('/')[1]\n",
        "  return labels.index(cls)\n",
        "\n",
        "# ミニバッチデータの作成\n",
        "def make_batch(data_files):\n",
        "  batch_data = [] # データを入れるリスト\n",
        "  label_data = [] # データに対するラベルを入れるリスト\n",
        "  ### 1つずつファイルを処理\n",
        "  for d in data_files:\n",
        "    filename = bytes.decode(d.numpy()) # ファイル名の取得\n",
        "    sr, data = wavfile.read(filename) # wavファイルの読み込み\n",
        "    mels = librosa.feature.melspectrogram(y=np.float32(data), sr=sr, n_mels=64, n_fft=512, hop_length=160) #メルスペクトログラムの計算\n",
        "    mels = (mels - np.mean(mels)) / np.std(mels) # データを平均0, 分散1になるように正規化\n",
        "    batch_data.append(mels.T) # 転置してデータをリストに追加\n",
        "    classid = get_label(filename) # 数字クラスのラベルIDを取得\n",
        "    label_data.append(classid)\n",
        "  # バッチデータの長さを揃えるため，短いデータの後ろにゼロを埋める。\n",
        "  batch_data = pad_sequences(batch_data, padding='post', value=0, dtype=np.float32)\n",
        "  return batch_data, label_data\n",
        "\n",
        "batch_size = 50 # ミニバッチサイズ\n",
        "AUTOTUNE = tf.data.experimental.AUTOTUNE\n",
        "\n",
        "train_ds = tf.data.Dataset.list_files(train_list) # 訓練のファイルリストをTensor型に変換\n",
        "train_ds = train_ds.shuffle(buffer_size=len(train_list)) # 完全シャッフル\n",
        "train_ds = train_ds.repeat(1) # 繰り返し\n",
        "train_ds = train_ds.batch(batch_size) # ミニバッチ生成\n",
        "valid_ds = tf.data.Dataset.list_files(valid_list) # 検証用のファイルリストをTensor型に変換\n",
        "valid_ds = valid_ds.batch(batch_size) # ミニバッチ生成\n",
        "test_ds = tf.data.Dataset.list_files(test_list) # テストのファイルリストをTensor型に変換\n",
        "test_ds = test_ds.batch(500) # 全てのデータを一括処理する\n",
        "\n",
        "# ミニバッチ単位で，インデックスから訓練データに変換\n",
        "train_ds = train_ds.map(lambda x: tf.py_function(make_batch, [x], Tout=[tf.float32, tf.int32]))\n",
        "train_ds = train_ds.prefetch(buffer_size=AUTOTUNE) # プレフェッチの設定（実行速度アップのため）\n",
        "# 検証データのミニバッチ化\n",
        "valid_ds = valid_ds.map(lambda x: tf.py_function(make_batch, [x], Tout=[tf.float32, tf.int32]))\n",
        "# テストデータの準備\n",
        "test_ds = test_ds.map(lambda x: tf.py_function(make_batch, [x], Tout=[tf.float32, tf.int32]))"
      ],
      "metadata": {
        "id": "aWypJu2RTD6M"
      },
      "execution_count": 10,
      "outputs": []
    },
    {
      "cell_type": "markdown",
      "source": [
        "モデルの定義（授業で扱ったモデル）\n"
      ],
      "metadata": {
        "id": "NolhdujiUchZ"
      }
    },
    {
      "cell_type": "code",
      "source": [
        "# モデル定義\n",
        "input = Input(shape=(None, 64), name='input') # 入力データの長さ（時間）は未定で，各時刻のデータは64次元\n",
        "# マスク層。全次元が0のデータを学習時に無視するようにするための層\n",
        "h = Masking(mask_value=0, input_shape=(None, 64))(input)\n",
        "h = Bidirectional(LSTM(256, name='lstm1'))(h)\n",
        "h = Dense(128, activation='relu', name='fc1')(h)\n",
        "output = Dense(35, activation='softmax', name='output')(h)\n",
        "model = tf.keras.Model(inputs=input, outputs=output)\n",
        "model.summary()"
      ],
      "metadata": {
        "colab": {
          "base_uri": "https://localhost:8080/"
        },
        "id": "i0A_2Q2TUeLD",
        "outputId": "742c6441-cd92-4bad-b370-1e3c4f5b8e0d"
      },
      "execution_count": 11,
      "outputs": [
        {
          "output_type": "stream",
          "name": "stdout",
          "text": [
            "Model: \"model\"\n",
            "_________________________________________________________________\n",
            " Layer (type)                Output Shape              Param #   \n",
            "=================================================================\n",
            " input (InputLayer)          [(None, None, 64)]        0         \n",
            "                                                                 \n",
            " masking (Masking)           (None, None, 64)          0         \n",
            "                                                                 \n",
            " bidirectional (Bidirectiona  (None, 512)              657408    \n",
            " l)                                                              \n",
            "                                                                 \n",
            " fc1 (Dense)                 (None, 128)               65664     \n",
            "                                                                 \n",
            " output (Dense)              (None, 35)                4515      \n",
            "                                                                 \n",
            "=================================================================\n",
            "Total params: 727,587\n",
            "Trainable params: 727,587\n",
            "Non-trainable params: 0\n",
            "_________________________________________________________________\n"
          ]
        }
      ]
    },
    {
      "cell_type": "code",
      "source": [
        "# オプティマイザの設定\n",
        "model.compile(optimizer=tf.keras.optimizers.Adam(0.001), loss=tf.keras.losses.SparseCategoricalCrossentropy(), metrics=[tf.keras.metrics.SparseCategoricalAccuracy()])\n"
      ],
      "metadata": {
        "id": "sN9RBT5oUqr4"
      },
      "execution_count": 12,
      "outputs": []
    },
    {
      "cell_type": "code",
      "source": [
        "# 訓練\n",
        "model.fit(train_ds, epochs=100, validation_data=valid_ds, use_multiprocessing=True)\n"
      ],
      "metadata": {
        "colab": {
          "base_uri": "https://localhost:8080/"
        },
        "id": "rWB3I7l-Uv40",
        "outputId": "078e7799-00e0-46ef-e935-d9500587426c"
      },
      "execution_count": 17,
      "outputs": [
        {
          "output_type": "stream",
          "name": "stdout",
          "text": [
            "Epoch 1/100\n",
            "100/100 [==============================] - 34s 339ms/step - loss: 0.0112 - sparse_categorical_accuracy: 0.9978 - val_loss: 2.4149 - val_sparse_categorical_accuracy: 0.6100\n",
            "Epoch 2/100\n",
            "100/100 [==============================] - 34s 345ms/step - loss: 0.0067 - sparse_categorical_accuracy: 0.9980 - val_loss: 3.8008 - val_sparse_categorical_accuracy: 0.4600\n",
            "Epoch 3/100\n",
            "100/100 [==============================] - 34s 345ms/step - loss: 0.0101 - sparse_categorical_accuracy: 0.9972 - val_loss: 2.8748 - val_sparse_categorical_accuracy: 0.5680\n",
            "Epoch 4/100\n",
            "100/100 [==============================] - 35s 348ms/step - loss: 0.0076 - sparse_categorical_accuracy: 0.9974 - val_loss: 4.4609 - val_sparse_categorical_accuracy: 0.4000\n",
            "Epoch 5/100\n",
            "100/100 [==============================] - 34s 342ms/step - loss: 0.0059 - sparse_categorical_accuracy: 0.9982 - val_loss: 2.9306 - val_sparse_categorical_accuracy: 0.5600\n",
            "Epoch 6/100\n",
            "100/100 [==============================] - 35s 348ms/step - loss: 0.0053 - sparse_categorical_accuracy: 0.9984 - val_loss: 4.8516 - val_sparse_categorical_accuracy: 0.3520\n",
            "Epoch 7/100\n",
            "100/100 [==============================] - 34s 341ms/step - loss: 0.0071 - sparse_categorical_accuracy: 0.9984 - val_loss: 4.5797 - val_sparse_categorical_accuracy: 0.3700\n",
            "Epoch 8/100\n",
            "100/100 [==============================] - 38s 381ms/step - loss: 0.0060 - sparse_categorical_accuracy: 0.9986 - val_loss: 4.0100 - val_sparse_categorical_accuracy: 0.4620\n",
            "Epoch 9/100\n",
            "100/100 [==============================] - 35s 344ms/step - loss: 0.0081 - sparse_categorical_accuracy: 0.9972 - val_loss: 3.2526 - val_sparse_categorical_accuracy: 0.5480\n",
            "Epoch 10/100\n",
            "100/100 [==============================] - 35s 346ms/step - loss: 0.1765 - sparse_categorical_accuracy: 0.9498 - val_loss: 3.5966 - val_sparse_categorical_accuracy: 0.4500\n",
            "Epoch 11/100\n",
            "100/100 [==============================] - 35s 350ms/step - loss: 0.4275 - sparse_categorical_accuracy: 0.8664 - val_loss: 2.5645 - val_sparse_categorical_accuracy: 0.5120\n",
            "Epoch 12/100\n",
            "100/100 [==============================] - 35s 346ms/step - loss: 0.1906 - sparse_categorical_accuracy: 0.9380 - val_loss: 2.9563 - val_sparse_categorical_accuracy: 0.4840\n",
            "Epoch 13/100\n",
            "100/100 [==============================] - 35s 347ms/step - loss: 0.0720 - sparse_categorical_accuracy: 0.9788 - val_loss: 2.1584 - val_sparse_categorical_accuracy: 0.6300\n",
            "Epoch 14/100\n",
            "100/100 [==============================] - 34s 342ms/step - loss: 0.0285 - sparse_categorical_accuracy: 0.9936 - val_loss: 2.5511 - val_sparse_categorical_accuracy: 0.5760\n",
            "Epoch 15/100\n",
            "100/100 [==============================] - 34s 341ms/step - loss: 0.0234 - sparse_categorical_accuracy: 0.9946 - val_loss: 3.3116 - val_sparse_categorical_accuracy: 0.5080\n",
            "Epoch 16/100\n",
            "100/100 [==============================] - 37s 376ms/step - loss: 0.0128 - sparse_categorical_accuracy: 0.9976 - val_loss: 2.7361 - val_sparse_categorical_accuracy: 0.5660\n",
            "Epoch 17/100\n",
            "100/100 [==============================] - 34s 341ms/step - loss: 0.0081 - sparse_categorical_accuracy: 0.9982 - val_loss: 2.3498 - val_sparse_categorical_accuracy: 0.6280\n",
            "Epoch 18/100\n",
            "100/100 [==============================] - 34s 342ms/step - loss: 0.0053 - sparse_categorical_accuracy: 0.9988 - val_loss: 2.3995 - val_sparse_categorical_accuracy: 0.6240\n",
            "Epoch 19/100\n",
            "100/100 [==============================] - 34s 335ms/step - loss: 0.0053 - sparse_categorical_accuracy: 0.9982 - val_loss: 2.8700 - val_sparse_categorical_accuracy: 0.5840\n",
            "Epoch 20/100\n",
            "100/100 [==============================] - 34s 339ms/step - loss: 0.0049 - sparse_categorical_accuracy: 0.9986 - val_loss: 2.8766 - val_sparse_categorical_accuracy: 0.5800\n",
            "Epoch 21/100\n",
            "100/100 [==============================] - 33s 332ms/step - loss: 0.0042 - sparse_categorical_accuracy: 0.9990 - val_loss: 3.9382 - val_sparse_categorical_accuracy: 0.4780\n",
            "Epoch 22/100\n",
            "100/100 [==============================] - 34s 342ms/step - loss: 0.0053 - sparse_categorical_accuracy: 0.9990 - val_loss: 2.4943 - val_sparse_categorical_accuracy: 0.6300\n",
            "Epoch 23/100\n",
            "100/100 [==============================] - 34s 339ms/step - loss: 0.0053 - sparse_categorical_accuracy: 0.9982 - val_loss: 4.2079 - val_sparse_categorical_accuracy: 0.4780\n",
            "Epoch 24/100\n",
            "100/100 [==============================] - 34s 339ms/step - loss: 0.0988 - sparse_categorical_accuracy: 0.9700 - val_loss: 3.2712 - val_sparse_categorical_accuracy: 0.4980\n",
            "Epoch 25/100\n",
            "100/100 [==============================] - 37s 373ms/step - loss: 0.2630 - sparse_categorical_accuracy: 0.9204 - val_loss: 2.6936 - val_sparse_categorical_accuracy: 0.5520\n",
            "Epoch 26/100\n",
            "100/100 [==============================] - 33s 325ms/step - loss: 0.1817 - sparse_categorical_accuracy: 0.9426 - val_loss: 2.2942 - val_sparse_categorical_accuracy: 0.5920\n",
            "Epoch 27/100\n",
            "100/100 [==============================] - 34s 345ms/step - loss: 0.0973 - sparse_categorical_accuracy: 0.9704 - val_loss: 2.9526 - val_sparse_categorical_accuracy: 0.5120\n",
            "Epoch 28/100\n",
            "100/100 [==============================] - 33s 330ms/step - loss: 0.0409 - sparse_categorical_accuracy: 0.9888 - val_loss: 3.0407 - val_sparse_categorical_accuracy: 0.5180\n",
            "Epoch 29/100\n",
            "100/100 [==============================] - 36s 354ms/step - loss: 0.0194 - sparse_categorical_accuracy: 0.9950 - val_loss: 2.3832 - val_sparse_categorical_accuracy: 0.6120\n",
            "Epoch 30/100\n",
            "100/100 [==============================] - 33s 327ms/step - loss: 0.0107 - sparse_categorical_accuracy: 0.9982 - val_loss: 2.4419 - val_sparse_categorical_accuracy: 0.6120\n",
            "Epoch 31/100\n",
            "100/100 [==============================] - 34s 337ms/step - loss: 0.0046 - sparse_categorical_accuracy: 0.9992 - val_loss: 3.0213 - val_sparse_categorical_accuracy: 0.5560\n",
            "Epoch 32/100\n",
            "100/100 [==============================] - 32s 318ms/step - loss: 0.0032 - sparse_categorical_accuracy: 0.9994 - val_loss: 2.5276 - val_sparse_categorical_accuracy: 0.6020\n",
            "Epoch 33/100\n",
            "100/100 [==============================] - 33s 328ms/step - loss: 0.0027 - sparse_categorical_accuracy: 0.9994 - val_loss: 3.8974 - val_sparse_categorical_accuracy: 0.4520\n",
            "Epoch 34/100\n",
            "100/100 [==============================] - 40s 398ms/step - loss: 0.0023 - sparse_categorical_accuracy: 0.9992 - val_loss: 3.8661 - val_sparse_categorical_accuracy: 0.4600\n",
            "Epoch 35/100\n",
            "100/100 [==============================] - 33s 330ms/step - loss: 0.0018 - sparse_categorical_accuracy: 0.9998 - val_loss: 3.5152 - val_sparse_categorical_accuracy: 0.5020\n",
            "Epoch 36/100\n",
            "100/100 [==============================] - 34s 345ms/step - loss: 0.0020 - sparse_categorical_accuracy: 0.9996 - val_loss: 3.4616 - val_sparse_categorical_accuracy: 0.5220\n",
            "Epoch 37/100\n",
            "100/100 [==============================] - 34s 336ms/step - loss: 0.0020 - sparse_categorical_accuracy: 0.9998 - val_loss: 2.6634 - val_sparse_categorical_accuracy: 0.5980\n",
            "Epoch 38/100\n",
            "100/100 [==============================] - 34s 342ms/step - loss: 0.0031 - sparse_categorical_accuracy: 0.9992 - val_loss: 3.3778 - val_sparse_categorical_accuracy: 0.5060\n",
            "Epoch 39/100\n",
            "100/100 [==============================] - 35s 348ms/step - loss: 0.0032 - sparse_categorical_accuracy: 0.9992 - val_loss: 3.3499 - val_sparse_categorical_accuracy: 0.5100\n",
            "Epoch 40/100\n",
            "100/100 [==============================] - 36s 358ms/step - loss: 0.0052 - sparse_categorical_accuracy: 0.9982 - val_loss: 4.1525 - val_sparse_categorical_accuracy: 0.4440\n",
            "Epoch 41/100\n",
            "100/100 [==============================] - 34s 340ms/step - loss: 0.0036 - sparse_categorical_accuracy: 0.9988 - val_loss: 3.7369 - val_sparse_categorical_accuracy: 0.4900\n",
            "Epoch 42/100\n",
            "100/100 [==============================] - 38s 377ms/step - loss: 0.0037 - sparse_categorical_accuracy: 0.9992 - val_loss: 3.1792 - val_sparse_categorical_accuracy: 0.5680\n",
            "Epoch 43/100\n",
            "100/100 [==============================] - 35s 350ms/step - loss: 0.0035 - sparse_categorical_accuracy: 0.9988 - val_loss: 4.6988 - val_sparse_categorical_accuracy: 0.4120\n",
            "Epoch 44/100\n",
            "100/100 [==============================] - 34s 345ms/step - loss: 0.0035 - sparse_categorical_accuracy: 0.9986 - val_loss: 3.2752 - val_sparse_categorical_accuracy: 0.5600\n",
            "Epoch 45/100\n",
            "100/100 [==============================] - 35s 347ms/step - loss: 0.0027 - sparse_categorical_accuracy: 0.9992 - val_loss: 2.7693 - val_sparse_categorical_accuracy: 0.6120\n",
            "Epoch 46/100\n",
            "100/100 [==============================] - 34s 342ms/step - loss: 0.0030 - sparse_categorical_accuracy: 0.9986 - val_loss: 3.1971 - val_sparse_categorical_accuracy: 0.5580\n",
            "Epoch 47/100\n",
            "100/100 [==============================] - 35s 350ms/step - loss: 0.0026 - sparse_categorical_accuracy: 0.9988 - val_loss: 3.1202 - val_sparse_categorical_accuracy: 0.5720\n",
            "Epoch 48/100\n",
            "100/100 [==============================] - 34s 345ms/step - loss: 0.0023 - sparse_categorical_accuracy: 0.9988 - val_loss: 3.5545 - val_sparse_categorical_accuracy: 0.5220\n",
            "Epoch 49/100\n",
            "100/100 [==============================] - 35s 346ms/step - loss: 0.1021 - sparse_categorical_accuracy: 0.9734 - val_loss: 3.6273 - val_sparse_categorical_accuracy: 0.4760\n",
            "Epoch 50/100\n",
            "100/100 [==============================] - 35s 347ms/step - loss: 0.5623 - sparse_categorical_accuracy: 0.8236 - val_loss: 2.5346 - val_sparse_categorical_accuracy: 0.5300\n",
            "Epoch 51/100\n",
            "100/100 [==============================] - 38s 378ms/step - loss: 0.1506 - sparse_categorical_accuracy: 0.9548 - val_loss: 2.0987 - val_sparse_categorical_accuracy: 0.6320\n",
            "Epoch 52/100\n",
            "100/100 [==============================] - 34s 343ms/step - loss: 0.0387 - sparse_categorical_accuracy: 0.9902 - val_loss: 2.5114 - val_sparse_categorical_accuracy: 0.5900\n",
            "Epoch 53/100\n",
            "100/100 [==============================] - 34s 343ms/step - loss: 0.0159 - sparse_categorical_accuracy: 0.9968 - val_loss: 2.2584 - val_sparse_categorical_accuracy: 0.6440\n",
            "Epoch 54/100\n",
            "100/100 [==============================] - 35s 347ms/step - loss: 0.0067 - sparse_categorical_accuracy: 0.9986 - val_loss: 2.2801 - val_sparse_categorical_accuracy: 0.6460\n",
            "Epoch 55/100\n",
            "100/100 [==============================] - 37s 375ms/step - loss: 0.0113 - sparse_categorical_accuracy: 0.9970 - val_loss: 2.8245 - val_sparse_categorical_accuracy: 0.5720\n",
            "Epoch 56/100\n",
            "100/100 [==============================] - 46s 458ms/step - loss: 0.0359 - sparse_categorical_accuracy: 0.9876 - val_loss: 3.7227 - val_sparse_categorical_accuracy: 0.4660\n",
            "Epoch 57/100\n",
            "100/100 [==============================] - 37s 367ms/step - loss: 0.0349 - sparse_categorical_accuracy: 0.9902 - val_loss: 2.7010 - val_sparse_categorical_accuracy: 0.5940\n",
            "Epoch 58/100\n",
            "100/100 [==============================] - 42s 425ms/step - loss: 0.0235 - sparse_categorical_accuracy: 0.9926 - val_loss: 2.7999 - val_sparse_categorical_accuracy: 0.5940\n",
            "Epoch 59/100\n",
            "100/100 [==============================] - 36s 356ms/step - loss: 0.0289 - sparse_categorical_accuracy: 0.9932 - val_loss: 3.2485 - val_sparse_categorical_accuracy: 0.5320\n",
            "Epoch 60/100\n",
            "100/100 [==============================] - 40s 395ms/step - loss: 0.0302 - sparse_categorical_accuracy: 0.9914 - val_loss: 2.6120 - val_sparse_categorical_accuracy: 0.6140\n",
            "Epoch 61/100\n",
            "100/100 [==============================] - 44s 439ms/step - loss: 0.0334 - sparse_categorical_accuracy: 0.9910 - val_loss: 2.5056 - val_sparse_categorical_accuracy: 0.6360\n",
            "Epoch 62/100\n",
            "100/100 [==============================] - 43s 428ms/step - loss: 0.0515 - sparse_categorical_accuracy: 0.9854 - val_loss: 3.5352 - val_sparse_categorical_accuracy: 0.4800\n",
            "Epoch 63/100\n",
            "100/100 [==============================] - 41s 404ms/step - loss: 0.0465 - sparse_categorical_accuracy: 0.9852 - val_loss: 3.8295 - val_sparse_categorical_accuracy: 0.4640\n",
            "Epoch 64/100\n",
            "100/100 [==============================] - 34s 343ms/step - loss: 0.0301 - sparse_categorical_accuracy: 0.9918 - val_loss: 2.7792 - val_sparse_categorical_accuracy: 0.5660\n",
            "Epoch 65/100\n",
            "100/100 [==============================] - 35s 355ms/step - loss: 0.0114 - sparse_categorical_accuracy: 0.9972 - val_loss: 3.7972 - val_sparse_categorical_accuracy: 0.4640\n",
            "Epoch 66/100\n",
            "100/100 [==============================] - 43s 430ms/step - loss: 0.0068 - sparse_categorical_accuracy: 0.9992 - val_loss: 2.5392 - val_sparse_categorical_accuracy: 0.6160\n",
            "Epoch 67/100\n",
            "100/100 [==============================] - 46s 463ms/step - loss: 0.0053 - sparse_categorical_accuracy: 0.9988 - val_loss: 2.8859 - val_sparse_categorical_accuracy: 0.5820\n",
            "Epoch 68/100\n",
            "100/100 [==============================] - 37s 367ms/step - loss: 0.0053 - sparse_categorical_accuracy: 0.9986 - val_loss: 3.0809 - val_sparse_categorical_accuracy: 0.5600\n",
            "Epoch 69/100\n",
            "100/100 [==============================] - 34s 346ms/step - loss: 0.0042 - sparse_categorical_accuracy: 0.9986 - val_loss: 3.4566 - val_sparse_categorical_accuracy: 0.5320\n",
            "Epoch 70/100\n",
            "100/100 [==============================] - 35s 346ms/step - loss: 0.0020 - sparse_categorical_accuracy: 0.9994 - val_loss: 2.6074 - val_sparse_categorical_accuracy: 0.6320\n",
            "Epoch 71/100\n",
            "100/100 [==============================] - 34s 343ms/step - loss: 0.0025 - sparse_categorical_accuracy: 0.9992 - val_loss: 2.6156 - val_sparse_categorical_accuracy: 0.6340\n",
            "Epoch 72/100\n",
            "100/100 [==============================] - 35s 347ms/step - loss: 0.0024 - sparse_categorical_accuracy: 0.9992 - val_loss: 3.0348 - val_sparse_categorical_accuracy: 0.5760\n",
            "Epoch 73/100\n",
            "100/100 [==============================] - 35s 344ms/step - loss: 0.0012 - sparse_categorical_accuracy: 0.9998 - val_loss: 2.6394 - val_sparse_categorical_accuracy: 0.6320\n",
            "Epoch 74/100\n",
            "100/100 [==============================] - 34s 337ms/step - loss: 0.0015 - sparse_categorical_accuracy: 0.9992 - val_loss: 3.1236 - val_sparse_categorical_accuracy: 0.5820\n",
            "Epoch 75/100\n",
            "100/100 [==============================] - 34s 338ms/step - loss: 0.0013 - sparse_categorical_accuracy: 0.9996 - val_loss: 2.6596 - val_sparse_categorical_accuracy: 0.6280\n",
            "Epoch 76/100\n",
            "100/100 [==============================] - 39s 386ms/step - loss: 0.0013 - sparse_categorical_accuracy: 0.9994 - val_loss: 3.1242 - val_sparse_categorical_accuracy: 0.5860\n",
            "Epoch 77/100\n",
            "100/100 [==============================] - 35s 348ms/step - loss: 0.0011 - sparse_categorical_accuracy: 0.9998 - val_loss: 3.5959 - val_sparse_categorical_accuracy: 0.5240\n",
            "Epoch 78/100\n",
            "100/100 [==============================] - 35s 346ms/step - loss: 0.0012 - sparse_categorical_accuracy: 0.9996 - val_loss: 3.5013 - val_sparse_categorical_accuracy: 0.5360\n",
            "Epoch 79/100\n",
            "100/100 [==============================] - 35s 351ms/step - loss: 0.0018 - sparse_categorical_accuracy: 0.9996 - val_loss: 4.0182 - val_sparse_categorical_accuracy: 0.4820\n",
            "Epoch 80/100\n",
            "100/100 [==============================] - 34s 345ms/step - loss: 0.0021 - sparse_categorical_accuracy: 0.9996 - val_loss: 3.5312 - val_sparse_categorical_accuracy: 0.5280\n",
            "Epoch 81/100\n",
            "100/100 [==============================] - 34s 340ms/step - loss: 0.0021 - sparse_categorical_accuracy: 0.9994 - val_loss: 3.2524 - val_sparse_categorical_accuracy: 0.5900\n",
            "Epoch 82/100\n",
            "100/100 [==============================] - 35s 349ms/step - loss: 0.0063 - sparse_categorical_accuracy: 0.9980 - val_loss: 2.8368 - val_sparse_categorical_accuracy: 0.6340\n",
            "Epoch 83/100\n",
            "100/100 [==============================] - 35s 348ms/step - loss: 0.1080 - sparse_categorical_accuracy: 0.9714 - val_loss: 3.4510 - val_sparse_categorical_accuracy: 0.5000\n",
            "Epoch 84/100\n",
            "100/100 [==============================] - 34s 340ms/step - loss: 0.3547 - sparse_categorical_accuracy: 0.8910 - val_loss: 2.3860 - val_sparse_categorical_accuracy: 0.5580\n",
            "Epoch 85/100\n",
            "100/100 [==============================] - 37s 374ms/step - loss: 0.1224 - sparse_categorical_accuracy: 0.9644 - val_loss: 3.0558 - val_sparse_categorical_accuracy: 0.5100\n",
            "Epoch 86/100\n",
            "100/100 [==============================] - 35s 346ms/step - loss: 0.0418 - sparse_categorical_accuracy: 0.9860 - val_loss: 3.8811 - val_sparse_categorical_accuracy: 0.4020\n",
            "Epoch 87/100\n",
            "100/100 [==============================] - 34s 341ms/step - loss: 0.0192 - sparse_categorical_accuracy: 0.9946 - val_loss: 2.4255 - val_sparse_categorical_accuracy: 0.6180\n",
            "Epoch 88/100\n",
            "100/100 [==============================] - 34s 338ms/step - loss: 0.0074 - sparse_categorical_accuracy: 0.9986 - val_loss: 3.1227 - val_sparse_categorical_accuracy: 0.5440\n",
            "Epoch 89/100\n",
            "100/100 [==============================] - 34s 342ms/step - loss: 0.0031 - sparse_categorical_accuracy: 0.9996 - val_loss: 2.4934 - val_sparse_categorical_accuracy: 0.6360\n",
            "Epoch 90/100\n",
            "100/100 [==============================] - 34s 334ms/step - loss: 0.0048 - sparse_categorical_accuracy: 0.9988 - val_loss: 3.3711 - val_sparse_categorical_accuracy: 0.5400\n",
            "Epoch 91/100\n",
            "100/100 [==============================] - 34s 340ms/step - loss: 0.0013 - sparse_categorical_accuracy: 1.0000 - val_loss: 3.2557 - val_sparse_categorical_accuracy: 0.5360\n",
            "Epoch 92/100\n",
            "100/100 [==============================] - 34s 338ms/step - loss: 9.4274e-04 - sparse_categorical_accuracy: 1.0000 - val_loss: 2.9111 - val_sparse_categorical_accuracy: 0.5800\n",
            "Epoch 93/100\n",
            "100/100 [==============================] - 34s 341ms/step - loss: 0.0027 - sparse_categorical_accuracy: 0.9988 - val_loss: 4.3994 - val_sparse_categorical_accuracy: 0.4320\n",
            "Epoch 94/100\n",
            "100/100 [==============================] - 34s 338ms/step - loss: 0.0035 - sparse_categorical_accuracy: 0.9992 - val_loss: 3.4617 - val_sparse_categorical_accuracy: 0.5240\n",
            "Epoch 95/100\n",
            "100/100 [==============================] - 34s 337ms/step - loss: 0.0012 - sparse_categorical_accuracy: 0.9998 - val_loss: 3.0948 - val_sparse_categorical_accuracy: 0.5640\n",
            "Epoch 96/100\n",
            "100/100 [==============================] - 34s 340ms/step - loss: 9.1181e-04 - sparse_categorical_accuracy: 0.9998 - val_loss: 2.9911 - val_sparse_categorical_accuracy: 0.5900\n",
            "Epoch 97/100\n",
            "100/100 [==============================] - 34s 343ms/step - loss: 8.0954e-04 - sparse_categorical_accuracy: 1.0000 - val_loss: 3.4806 - val_sparse_categorical_accuracy: 0.5240\n",
            "Epoch 98/100\n",
            "100/100 [==============================] - 34s 336ms/step - loss: 0.0018 - sparse_categorical_accuracy: 0.9996 - val_loss: 2.7096 - val_sparse_categorical_accuracy: 0.6240\n",
            "Epoch 99/100\n",
            "100/100 [==============================] - 34s 342ms/step - loss: 8.1931e-04 - sparse_categorical_accuracy: 0.9996 - val_loss: 3.0251 - val_sparse_categorical_accuracy: 0.5900\n",
            "Epoch 100/100\n",
            "100/100 [==============================] - 34s 343ms/step - loss: 5.5493e-04 - sparse_categorical_accuracy: 0.9998 - val_loss: 4.0327 - val_sparse_categorical_accuracy: 0.4760\n"
          ]
        },
        {
          "output_type": "execute_result",
          "data": {
            "text/plain": [
              "<keras.callbacks.History at 0x7ada941710c0>"
            ]
          },
          "metadata": {},
          "execution_count": 17
        }
      ]
    },
    {
      "cell_type": "code",
      "source": [
        "# モデルの保存（訓練条件に応じてまめに保存しておくと良い）\n",
        "model.save('/content/drive/MyDrive/Final')\n"
      ],
      "metadata": {
        "colab": {
          "base_uri": "https://localhost:8080/"
        },
        "id": "S6fnvFncU4eF",
        "outputId": "06c4f158-7bad-4c0d-9c77-3d9555371146"
      },
      "execution_count": 16,
      "outputs": [
        {
          "output_type": "stream",
          "name": "stderr",
          "text": [
            "WARNING:absl:Found untraced functions such as lstm_cell_1_layer_call_fn, lstm_cell_1_layer_call_and_return_conditional_losses, lstm_cell_2_layer_call_fn, lstm_cell_2_layer_call_and_return_conditional_losses while saving (showing 4 of 4). These functions will not be directly callable after loading.\n"
          ]
        }
      ]
    },
    {
      "cell_type": "markdown",
      "source": [
        "テストデータに対する評価"
      ],
      "metadata": {
        "id": "vbKNgDsKU-_n"
      }
    },
    {
      "cell_type": "code",
      "source": [
        "# テストデータの評価コード（これが50％以上）\n",
        "loss, acc = model.evaluate(test_ds)\n",
        "print(f'分類精度: {acc*100:.1f}%')\n"
      ],
      "metadata": {
        "colab": {
          "base_uri": "https://localhost:8080/"
        },
        "id": "v_NHnKudU8-1",
        "outputId": "3d463f9a-ba1a-48e5-bd9b-f188989060ef"
      },
      "execution_count": 18,
      "outputs": [
        {
          "output_type": "stream",
          "name": "stdout",
          "text": [
            "1/1 [==============================] - 2s 2s/step - loss: 2.5430 - sparse_categorical_accuracy: 0.6340\n",
            "分類精度: 63.4%\n"
          ]
        }
      ]
    }
  ]
}