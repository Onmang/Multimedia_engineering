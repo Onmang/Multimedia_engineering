{
  "nbformat": 4,
  "nbformat_minor": 0,
  "metadata": {
    "colab": {
      "provenance": [],
      "authorship_tag": "ABX9TyMB4zpwXpV22TJmghESzlje",
      "include_colab_link": true
    },
    "kernelspec": {
      "name": "python3",
      "display_name": "Python 3"
    },
    "language_info": {
      "name": "python"
    }
  },
  "cells": [
    {
      "cell_type": "markdown",
      "metadata": {
        "id": "view-in-github",
        "colab_type": "text"
      },
      "source": [
        "<a href=\"https://colab.research.google.com/github/Onmang/Multimedia_engineering/blob/master/T20ME022_EX02.ipynb\" target=\"_parent\"><img src=\"https://colab.research.google.com/assets/colab-badge.svg\" alt=\"Open In Colab\"/></a>"
      ]
    },
    {
      "cell_type": "code",
      "execution_count": 41,
      "metadata": {
        "colab": {
          "base_uri": "https://localhost:8080/"
        },
        "id": "DOd4ZJuvfBEh",
        "outputId": "cf93dc64-cb0b-4a17-a495-5da1e080ea0c"
      },
      "outputs": [
        {
          "output_type": "stream",
          "name": "stdout",
          "text": [
            "数字を入力(\"0\"入力で終了) >> 1\n",
            "数字を入力(\"0\"入力で終了) >> 2\n",
            "数字を入力(\"0\"入力で終了) >> 3\n",
            "数字を入力(\"0\"入力で終了) >> 4\n",
            "数字を入力(\"0\"入力で終了) >> 5\n",
            "数字を入力(\"0\"入力で終了) >> 0\n",
            "[1.0, 2.0, 3.0, 4.0, 5.0]の平均値は3.00, 分散は2.00です。\n"
          ]
        }
      ],
      "source": [
        "# 平均と分散を求める関数\n",
        "def ave_var(nums):   \n",
        "  num_sqs = [i ** 2 for i in nums]  # 配列の各要素を2乗\n",
        "  sum = 0\n",
        "  sum_sq = 0\n",
        "  for num, num_sq in zip(nums, num_sqs):\n",
        "    sum += num\n",
        "    sum_sq += num_sq\n",
        "  ave = sum / len(nums)  # 元配列の平均値\n",
        "  ave_sq = sum_sq / len(num_sqs)  # 2乗平均\n",
        "  var = ave_sq - (ave*ave) #分散\n",
        "  return ave, var\n",
        "\n",
        "def main():\n",
        "  A = []  # init array\n",
        "  a = float(input('数字を入力(\"0\"入力で終了) >> '))\n",
        "  while a != 0:\n",
        "    A.append(a)  # A配列にaを追加\n",
        "    a = float(input('数字を入力(\"0\"入力で終了) >> '))\n",
        "  ave, var = ave_var(A)\n",
        "  print(f\"{A}の平均値は{ave:.2f}, 分散は{var:.2f}です。\")\n",
        "\n",
        "if __name__ ==\"__main__\":\n",
        "  main()"
      ]
    },
    {
      "cell_type": "code",
      "source": [],
      "metadata": {
        "id": "slMQxAMvy7lC"
      },
      "execution_count": null,
      "outputs": []
    }
  ]
}