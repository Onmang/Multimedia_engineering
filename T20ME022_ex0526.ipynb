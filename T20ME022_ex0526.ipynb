{
  "nbformat": 4,
  "nbformat_minor": 0,
  "metadata": {
    "colab": {
      "provenance": [],
      "gpuType": "T4",
      "authorship_tag": "ABX9TyNnPkBrSeaRkQdqb87+AgaD",
      "include_colab_link": true
    },
    "kernelspec": {
      "name": "python3",
      "display_name": "Python 3"
    },
    "language_info": {
      "name": "python"
    },
    "accelerator": "GPU",
    "gpuClass": "standard"
  },
  "cells": [
    {
      "cell_type": "markdown",
      "metadata": {
        "id": "view-in-github",
        "colab_type": "text"
      },
      "source": [
        "<a href=\"https://colab.research.google.com/github/Onmang/Multimedia_engineering/blob/master/T20ME022_ex0526.ipynb\" target=\"_parent\"><img src=\"https://colab.research.google.com/assets/colab-badge.svg\" alt=\"Open In Colab\"/></a>"
      ]
    },
    {
      "cell_type": "code",
      "execution_count": 1,
      "metadata": {
        "colab": {
          "base_uri": "https://localhost:8080/",
          "height": 36
        },
        "id": "mov014kCQK7v",
        "outputId": "65b43781-4f53-4e67-8999-0faecffce5df"
      },
      "outputs": [
        {
          "output_type": "execute_result",
          "data": {
            "text/plain": [
              "'/device:GPU:0'"
            ],
            "application/vnd.google.colaboratory.intrinsic+json": {
              "type": "string"
            }
          },
          "metadata": {},
          "execution_count": 1
        }
      ],
      "source": [
        "import tensorflow as tf\n",
        "from tensorflow.keras.layers import Input, Dense, Conv2D, MaxPooling2D, Flatten\n",
        "from tensorflow.keras.models import Model\n",
        "\n",
        "import numpy as np\n",
        "import cv2 # opencv \n",
        "import matplotlib.pyplot as plt # 画像の描画ためのライブラリ\n",
        "tf.test.gpu_device_name() # GPUの利用確認"
      ]
    },
    {
      "cell_type": "code",
      "source": [
        "mnist = tf.keras.datasets.mnist # MNISTデータを使う。TensorFlowにはMNIST用のライブラリが用意されている\n",
        "# MNISTデータをネットからロードする。\n",
        "# 訓練用60000枚，検証用10000枚。予め分けられている。\n",
        "(x_train, y_train), (x_valid, y_valid) = mnist.load_data()"
      ],
      "metadata": {
        "colab": {
          "base_uri": "https://localhost:8080/"
        },
        "id": "x_L6vYd-Zw3L",
        "outputId": "9e62b754-44f9-4785-be3e-85e0b0fccb91"
      },
      "execution_count": 2,
      "outputs": [
        {
          "output_type": "stream",
          "name": "stdout",
          "text": [
            "Downloading data from https://storage.googleapis.com/tensorflow/tf-keras-datasets/mnist.npz\n",
            "11490434/11490434 [==============================] - 2s 0us/step\n"
          ]
        }
      ]
    },
    {
      "cell_type": "code",
      "source": [
        "# データ変換（正規化とテンソル変換）\n",
        "def convert_data(x, y):\n",
        "    x = tf.expand_dims(x, axis=-1)\n",
        "    x = tf.cast(x, tf.float32) # float32に変換\n",
        "    x /= 255. # 255で割って正規化    \n",
        "    return x, y\n",
        "\n",
        "#\n",
        "# tf.Dataを使った tf.Tensor変換\n",
        "#\n",
        "train_ds = tf.data.Dataset.from_tensor_slices((x_train, y_train)) # 訓練セットの入力と教師ラベル合体させてTensorに変換\n",
        "valid_ds = tf.data.Dataset.from_tensor_slices((x_valid, y_valid)) # 検証も同様に処理\n",
        "AUTOTUNE = tf.data.experimental.AUTOTUNE # 処理を最適化するためのおまじない（自動チューニング設定）\n",
        "\n",
        "train_ds = train_ds.shuffle(len(x_train)) # 訓練データをシャッフルする。引数にはデータ数を指定すると完全なシャッフルが行われる。len(x_train)は60000。\n",
        "train_ds = train_ds.repeat(1) # 1 epochで使われるデータの回数。1の場合，1epochで1回しか使われない。引数を空欄にすると無限に使われる。\n",
        "train_ds = train_ds.batch(50) # ミニバッチを作る。1バッチ50個のデータ。\n",
        "# train_ds = train_ds.map(lambda x, y: tf.py_function(convert_data, [x, y], Tout=[tf.float32, tf.int32])) # データ変換。py_function + ラムダ式を使う場合\n",
        "train_ds = train_ds.map(convert_data, num_parallel_calls=AUTOTUNE) # データ変換。今回はpy_functionは不要なので，map関数のみで対応\n",
        "train_ds = train_ds.prefetch(buffer_size=AUTOTUNE) # 訓練中に次のバッチを取り出すための処理。\n",
        "\n",
        "valid_ds = valid_ds.batch(50) # 検証データはシャッフルする必要ないので，バッチ化のみの処理でOK。\n",
        "valid_ds = valid_ds.map(convert_data, num_parallel_calls=AUTOTUNE)"
      ],
      "metadata": {
        "id": "GDThJR5VZxue"
      },
      "execution_count": 3,
      "outputs": []
    },
    {
      "cell_type": "code",
      "source": [
        "# パディングなしバージョン\n",
        "input = Input(shape=(28, 28, 1), name='input') # 入力層の定義　28×28×1\n",
        "h = Conv2D(32, (5, 5), activation='relu', name='cnn01')(input) # フィルタ数32，フィルタサイズ5x5→単に5と書いてもOK\n",
        "h = MaxPooling2D((2, 2), name='pool01')(h) # 最大値プーリングで特徴マップを半分にする\n",
        "h = Conv2D(64, (5, 5), activation='relu', name='cnn02')(h)\n",
        "h = MaxPooling2D((2, 2), name='pool02')(h)\n",
        "h = Flatten(name='flatten')(h) # 特徴マップをフラット化する\n",
        "h = Dense(256, activation='relu', name='dense01')(h) # 全結合層の隠れ層のノードは256\n",
        "output = Dense(10, activation='softmax', name='output')(h) # 出力層（10次元）\n",
        "\n",
        "cnn_model = Model(inputs=input, outputs=output) \n",
        "cnn_model.summary()"
      ],
      "metadata": {
        "colab": {
          "base_uri": "https://localhost:8080/"
        },
        "id": "Ly86ULQrah2p",
        "outputId": "2acb330f-c239-4aa8-d210-aadfe0c8d7e9"
      },
      "execution_count": 7,
      "outputs": [
        {
          "output_type": "stream",
          "name": "stdout",
          "text": [
            "Model: \"model_2\"\n",
            "_________________________________________________________________\n",
            " Layer (type)                Output Shape              Param #   \n",
            "=================================================================\n",
            " input (InputLayer)          [(None, 28, 28, 1)]       0         \n",
            "                                                                 \n",
            " cnn01 (Conv2D)              (None, 24, 24, 32)        832       \n",
            "                                                                 \n",
            " pool01 (MaxPooling2D)       (None, 12, 12, 32)        0         \n",
            "                                                                 \n",
            " cnn02 (Conv2D)              (None, 8, 8, 64)          51264     \n",
            "                                                                 \n",
            " pool02 (MaxPooling2D)       (None, 4, 4, 64)          0         \n",
            "                                                                 \n",
            " flatten (Flatten)           (None, 1024)              0         \n",
            "                                                                 \n",
            " dense01 (Dense)             (None, 256)               262400    \n",
            "                                                                 \n",
            " output (Dense)              (None, 10)                2570      \n",
            "                                                                 \n",
            "=================================================================\n",
            "Total params: 317,066\n",
            "Trainable params: 317,066\n",
            "Non-trainable params: 0\n",
            "_________________________________________________________________\n"
          ]
        }
      ]
    },
    {
      "cell_type": "code",
      "source": [
        "cnn_model.compile(optimizer='adam', loss='sparse_categorical_crossentropy', metrics=['accuracy']) # 損失と評価尺度の設定"
      ],
      "metadata": {
        "id": "6C6w07qKc5_B"
      },
      "execution_count": 18,
      "outputs": []
    },
    {
      "cell_type": "code",
      "source": [
        "cnn_model.fit(train_ds, epochs=10, validation_data=valid_ds) # エポック数は10くらいで十分"
      ],
      "metadata": {
        "colab": {
          "base_uri": "https://localhost:8080/"
        },
        "id": "ehkEIsH0dOOR",
        "outputId": "14c31801-a63f-40bd-8ce4-991d6d3ddd87"
      },
      "execution_count": 20,
      "outputs": [
        {
          "output_type": "stream",
          "name": "stdout",
          "text": [
            "Epoch 1/10\n",
            "1200/1200 [==============================] - 7s 4ms/step - loss: 0.0071 - accuracy: 0.9977 - val_loss: 0.0305 - val_accuracy: 0.9936\n",
            "Epoch 2/10\n",
            "1200/1200 [==============================] - 6s 5ms/step - loss: 0.0056 - accuracy: 0.9982 - val_loss: 0.0344 - val_accuracy: 0.9926\n",
            "Epoch 3/10\n",
            "1200/1200 [==============================] - 7s 6ms/step - loss: 0.0044 - accuracy: 0.9985 - val_loss: 0.0407 - val_accuracy: 0.9918\n",
            "Epoch 4/10\n",
            "1200/1200 [==============================] - 6s 4ms/step - loss: 0.0057 - accuracy: 0.9982 - val_loss: 0.0328 - val_accuracy: 0.9925\n",
            "Epoch 5/10\n",
            "1200/1200 [==============================] - 6s 5ms/step - loss: 0.0049 - accuracy: 0.9986 - val_loss: 0.0437 - val_accuracy: 0.9912\n",
            "Epoch 6/10\n",
            "1200/1200 [==============================] - 6s 5ms/step - loss: 0.0035 - accuracy: 0.9990 - val_loss: 0.0486 - val_accuracy: 0.9907\n",
            "Epoch 7/10\n",
            "1200/1200 [==============================] - 5s 4ms/step - loss: 0.0045 - accuracy: 0.9986 - val_loss: 0.0539 - val_accuracy: 0.9908\n",
            "Epoch 8/10\n",
            "1200/1200 [==============================] - 6s 5ms/step - loss: 0.0039 - accuracy: 0.9990 - val_loss: 0.0540 - val_accuracy: 0.9914\n",
            "Epoch 9/10\n",
            "1200/1200 [==============================] - 6s 5ms/step - loss: 0.0043 - accuracy: 0.9988 - val_loss: 0.0449 - val_accuracy: 0.9917\n",
            "Epoch 10/10\n",
            "1200/1200 [==============================] - 5s 4ms/step - loss: 0.0044 - accuracy: 0.9988 - val_loss: 0.0490 - val_accuracy: 0.9914\n"
          ]
        },
        {
          "output_type": "execute_result",
          "data": {
            "text/plain": [
              "<keras.callbacks.History at 0x7feec2b5de10>"
            ]
          },
          "metadata": {},
          "execution_count": 20
        }
      ]
    },
    {
      "cell_type": "code",
      "source": [
        "#\n",
        "# 10個まとめて表示＆推論するコード （拡張子がjpgの場合）\n",
        "#  0.jpg〜9.jpgの10個のファイルを用意しておくこと\n",
        "#\n",
        "data = []\n",
        "plt.figure(figsize=(8, 6)) # 10枚並べて描画するために描画するキャンバスを用意\n",
        "plt.subplots_adjust(wspace=0.4, hspace=0.6) # 画像同士の間隔の調整\n",
        "for i in range(10):\n",
        "    file =  '/content/'+ str(i) + '.png' # ファイル名\n",
        "    img = cv2.imread(file, cv2.IMREAD_GRAYSCALE) # 画像データを読み込む\n",
        "    img = cv2.resize(img, (28, 28)) # 28x28にリサイズ\n",
        "    img = 255 - img  # 白黒反転\n",
        "    plt.subplot(3, 4, i+1) # キャンバスを3行4列の12マスに分割。i+1番目のマスに描画\n",
        "    plt.imshow(img, cmap='gray') # 実際の描画処理\n",
        "    data.append(img.reshape(28, 28, 1) / 255.) # 1ch追加し，255で割って正規化\n",
        "data = np.array(data, dtype=np.float32) # NNの入力データ。(10, 28, 28, 1)の4次元テンソルになっている\n",
        "print(data.shape) # データの形の確認"
      ],
      "metadata": {
        "colab": {
          "base_uri": "https://localhost:8080/",
          "height": 544
        },
        "id": "E0vSFLPEhjHL",
        "outputId": "b08882e1-fa69-45d3-db16-a2161e743cdf"
      },
      "execution_count": 27,
      "outputs": [
        {
          "output_type": "stream",
          "name": "stdout",
          "text": [
            "(10, 28, 28, 1)\n"
          ]
        },
        {
          "output_type": "display_data",
          "data": {
            "text/plain": [
              "<Figure size 800x600 with 10 Axes>"
            ],
            "image/png": "[encoded data removed]"
          },
          "metadata": {}
        }
      ]
    },
    {
      "cell_type": "code",
      "source": [
        "predictions = cnn_model.predict(data) # predict関数で10個のデータを同時に推論（バッチ処理）\n",
        "result = predictions.argmax(axis=1) # argmax関数で一番確率が高い結果を取得\n",
        "plt.figure(figsize=(8, 6))\n",
        "plt.subplots_adjust(wspace=0.4, hspace=0.6) # 画像同士の間隔の調整\n",
        "j = 0\n",
        "for i in range(10):\n",
        "    file = '/content/'+ str(i) + '.png'\n",
        "    img = cv2.imread(file, cv2.IMREAD_GRAYSCALE)\n",
        "    img = cv2.resize(img, (28, 28))\n",
        "    img = 255 - img  # 白黒反転\n",
        "    plt.subplot(3, 4, i+1)\n",
        "    plt.title(f'result: {result[i]}') # 推論結果を表示（グラフのタイトルにしている）\n",
        "    plt.imshow(img, cmap='gray')\n",
        "    if result[i] == i:\n",
        "      j += 1\n",
        "\n",
        "acr = (j/10)*100\n",
        "print(f'正答率 = {acr}%')\n",
        "\n",
        "# 正解率を表示させるコードを上記に追加せよ。"
      ],
      "metadata": {
        "colab": {
          "base_uri": "https://localhost:8080/",
          "height": 581
        },
        "id": "dT5vs2JJgvRl",
        "outputId": "8d01c5bd-76fc-4186-dc45-6b1093f40f24"
      },
      "execution_count": 39,
      "outputs": [
        {
          "output_type": "stream",
          "name": "stdout",
          "text": [
            "1/1 [==============================] - 0s 19ms/step\n",
            "正答率 = 100.0%\n"
          ]
        },
        {
          "output_type": "display_data",
          "data": {
            "text/plain": [
              "<Figure size 800x600 with 10 Axes>"
            ],
            "image/png": "[encoded data removed]"
          },
          "metadata": {}
        }
      ]
    }
  ]
}