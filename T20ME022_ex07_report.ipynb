{
  "nbformat": 4,
  "nbformat_minor": 0,
  "metadata": {
    "colab": {
      "provenance": [],
      "gpuType": "T4",
      "mount_file_id": "1AX19J2hJ9Y8untsiHV994VNJfsqKpA2R",
      "authorship_tag": "ABX9TyOAr4j1K+BSoMl3/Sm8NFOg",
      "include_colab_link": true
    },
    "kernelspec": {
      "name": "python3",
      "display_name": "Python 3"
    },
    "language_info": {
      "name": "python"
    },
    "accelerator": "GPU"
  },
  "cells": [
    {
      "cell_type": "markdown",
      "metadata": {
        "id": "view-in-github",
        "colab_type": "text"
      },
      "source": [
        "<a href=\"https://colab.research.google.com/github/Onmang/Multimedia_engineering/blob/master/T20ME022_ex07_report.ipynb\" target=\"_parent\"><img src=\"https://colab.research.google.com/assets/colab-badge.svg\" alt=\"Open In Colab\"/></a>"
      ]
    },
    {
      "cell_type": "code",
      "execution_count": null,
      "metadata": {
        "id": "XUhfxYZkXGpS"
      },
      "outputs": [],
      "source": [
        "!unzip \"/content/drive/MyDrive/Colab Notebooks/resistor_v3.zip\""
      ]
    },
    {
      "cell_type": "code",
      "source": [
        "# ライブラリのインポート\n",
        "import tensorflow as tf\n",
        "from tensorflow.keras.layers import Input, Dense, Conv2D, MaxPooling2D, Flatten\n",
        "from tensorflow.keras.models import Model\n",
        "import numpy as np\n",
        "import cv2\n",
        "import matplotlib.pyplot as plt\n",
        "import os # ディレクトリ（フォルダ）やファイルを扱うためのライブラリ（本当はPathlibライブラリのほうが良いが難しいので簡単な方で）\n",
        "import glob # ファイル一覧を取得するためのライブラリ\n",
        "import re # 正規表現を使ったパターンマッチング用（ラベルを取得するため）\n",
        "tf.test.gpu_device_name() # GPUの利用確認"
      ],
      "metadata": {
        "colab": {
          "base_uri": "https://localhost:8080/",
          "height": 35
        },
        "id": "Wycb6owDaOND",
        "outputId": "af6024de-fb65-48e4-9084-e43582b41094"
      },
      "execution_count": 2,
      "outputs": [
        {
          "output_type": "execute_result",
          "data": {
            "text/plain": [
              "'/device:GPU:0'"
            ],
            "application/vnd.google.colaboratory.intrinsic+json": {
              "type": "string"
            }
          },
          "metadata": {},
          "execution_count": 2
        }
      ]
    },
    {
      "cell_type": "code",
      "source": [
        "train_list = glob.glob('data/train/*/*.png') # 訓練用画像ファイルの取得（拡張子がpng）\n",
        "valid_list = glob.glob('data/valid/*/*.png') # 検証用画像ファイルの取得\n",
        "classes = sorted(os.listdir('data/train'), key=int) # 教師ラベルの一覧をリストで取得する。\"sorted\"でソートしておく。\n",
        "print(classes) # 取得した抵抗器のラベルを表示。文字列になっている点に注意すること！"
      ],
      "metadata": {
        "colab": {
          "base_uri": "https://localhost:8080/"
        },
        "id": "rktTXkRPac7b",
        "outputId": "d3a84369-b485-4fd0-aa70-cec77cb016de"
      },
      "execution_count": 15,
      "outputs": [
        {
          "output_type": "stream",
          "name": "stdout",
          "text": [
            "['150', '160', '390', '430', '620', '1600', '1800', '2200', '2400', '3000', '3300', '3600', '5600', '9100']\n"
          ]
        }
      ]
    },
    {
      "cell_type": "code",
      "source": [
        "train_ds = tf.data.Dataset.list_files(train_list) # 訓練ファイル名のリストをTensor型に変換\n",
        "valid_ds = tf.data.Dataset.list_files(valid_list) # テストファイル名のリストをTensor型に変換"
      ],
      "metadata": {
        "id": "AKtssaBXa0jV"
      },
      "execution_count": 19,
      "outputs": []
    },
    {
      "cell_type": "code",
      "source": [
        "train_ds = tf.data.Dataset.list_files(train_list) # 訓練ファイル名のリストをTensor型に変換\n",
        "valid_ds = tf.data.Dataset.list_files(valid_list) # 検証用のファイル名のリストをTensor型に変換\n",
        "\n",
        "# ファイル名から画像データをロードしてNNへ入力できるようにデータを成形する。ついでに教師ラベルも取得する\n",
        "def load_file(files):\n",
        "    ys = [] # ラベル\n",
        "    xs = [] # 入力データ\n",
        "    for f in files:\n",
        "        file = bytes.decode(f.numpy()) # ファイル名はTensor型で保存されているため，文字列型として取得する。\n",
        "        m = re.search(r'/(\\d+)_', file) # 正規表現を使ってファイル名から抵抗値を取得する。\n",
        "        label = m.groups()[0] # 抵抗値を取得しlabelに保存\n",
        "        ys.append(label) # ラベルをラベルリストに追加する\n",
        "        img = cv2.imread(file) # 画像データをカラーで取得。画像サイズは64x64になっているのでここではリサイズしない。\n",
        "        xs.append(img) # データを入力データリストに追加\n",
        "    xs = np.array(xs, dtype=np.float32) / 255. # 正規化してfloat32の行列に変換する\n",
        "    ys = np.array(ys, dtype=np.float32) # ラベルも行列に変換\n",
        "    return xs, ys\n",
        "\n",
        "#\n",
        "# tf.Dataによるtf.Tensor変換\n",
        "#\n",
        "AUTOTUNE = tf.data.experimental.AUTOTUNE # 処理を最適化するためのおまじない（自動チューニング設定）\n",
        "train_ds = train_ds.shuffle(len(train_list)) # 訓練データをシャッフルする。引数にはデータ数を指定すると完全なシャッフルが行われる。len(x_train)は60000。\n",
        "train_ds = train_ds.repeat(1) # 1 epochで使われるデータの回数。1の場合，1epochで1回しか使われない。引数を空欄にすると無限に使われる。\n",
        "train_ds = train_ds.batch(32) # ミニバッチを作る。1バッチ32個のデータ。\n",
        "train_ds = train_ds.map(lambda files: tf.py_function(load_file, [files], Tout=[tf.float32, tf.float32])) # ファイル名から入力ラベルとラベルを取得\n",
        "train_ds = train_ds.prefetch(buffer_size=AUTOTUNE) # 訓練中に次のバッチを取り出すための処理。\n",
        "\n",
        "valid_ds = valid_ds.batch(32) # 検証データはシャッフルする必要ないので，バッチ化のみの処理でOK。\n",
        "valid_ds = valid_ds.map(lambda x: tf.py_function(load_file, [x], Tout=[tf.float32, tf.float32]))"
      ],
      "metadata": {
        "id": "2LrAPzNMhlEI"
      },
      "execution_count": 20,
      "outputs": []
    },
    {
      "cell_type": "code",
      "source": [
        "# Functional API\n",
        "input = Input(shape=(64, 64, 3), name='input') # 入力層の定義　64×64×3 （カラー画像）\n",
        "h = Conv2D(16, (3, 3), padding='same', activation='relu', name='cnn01')(input)\n",
        "h = MaxPooling2D((2, 2), name='pool01')(h)\n",
        "h = Conv2D(32, (3, 3), padding='same', activation='relu', name='cnn02')(h)\n",
        "h = MaxPooling2D((2, 2), name='pool02')(h)\n",
        "h = Conv2D(64, (3, 3), padding='same', activation='relu', name='cnn03')(h)\n",
        "h = MaxPooling2D((2, 2), name='pool03')(h)\n",
        "h = Conv2D(128, (3, 3), padding='same', activation='relu', name='cnn04')(h)\n",
        "h = MaxPooling2D((2, 2), name='pool04')(h)\n",
        "h = Conv2D(256, (3, 3), padding='valid', activation='relu', name='cnn05')(h)\n",
        "h = MaxPooling2D((2, 2), name='pool05')(h)\n",
        "h = Flatten(name='flatten')(h) # GlobalAveragePoolingでも良い\n",
        "h = Dense(128, activation='relu', name='dense01')(h) # 全結合層の隠れ層のノードは128\n",
        "output = Dense(1, activation='linear', name='output')(h) # 出力層\n",
        "\n",
        "model = Model(inputs=input, outputs=output) # この処理でモデルを実体化する。入力層と出力層を渡すと自動的にネットワークを構築してくれる。\n",
        "model.summary()"
      ],
      "metadata": {
        "colab": {
          "base_uri": "https://localhost:8080/"
        },
        "id": "G_oPpXv0jtyh",
        "outputId": "12b50897-b0dd-4fdc-9304-17ba003ed8d7"
      },
      "execution_count": 21,
      "outputs": [
        {
          "output_type": "stream",
          "name": "stdout",
          "text": [
            "Model: \"model_2\"\n",
            "_________________________________________________________________\n",
            " Layer (type)                Output Shape              Param #   \n",
            "=================================================================\n",
            " input (InputLayer)          [(None, 64, 64, 3)]       0         \n",
            "                                                                 \n",
            " cnn01 (Conv2D)              (None, 64, 64, 16)        448       \n",
            "                                                                 \n",
            " pool01 (MaxPooling2D)       (None, 32, 32, 16)        0         \n",
            "                                                                 \n",
            " cnn02 (Conv2D)              (None, 32, 32, 32)        4640      \n",
            "                                                                 \n",
            " pool02 (MaxPooling2D)       (None, 16, 16, 32)        0         \n",
            "                                                                 \n",
            " cnn03 (Conv2D)              (None, 16, 16, 64)        18496     \n",
            "                                                                 \n",
            " pool03 (MaxPooling2D)       (None, 8, 8, 64)          0         \n",
            "                                                                 \n",
            " cnn04 (Conv2D)              (None, 8, 8, 128)         73856     \n",
            "                                                                 \n",
            " pool04 (MaxPooling2D)       (None, 4, 4, 128)         0         \n",
            "                                                                 \n",
            " cnn05 (Conv2D)              (None, 2, 2, 256)         295168    \n",
            "                                                                 \n",
            " pool05 (MaxPooling2D)       (None, 1, 1, 256)         0         \n",
            "                                                                 \n",
            " flatten (Flatten)           (None, 256)               0         \n",
            "                                                                 \n",
            " dense01 (Dense)             (None, 128)               32896     \n",
            "                                                                 \n",
            " output (Dense)              (None, 1)                 129       \n",
            "                                                                 \n",
            "=================================================================\n",
            "Total params: 425,633\n",
            "Trainable params: 425,633\n",
            "Non-trainable params: 0\n",
            "_________________________________________________________________\n"
          ]
        }
      ]
    },
    {
      "cell_type": "code",
      "source": [
        "# TFのバグでこのように書く\n",
        "#model.compile(optimizer='adam', loss='sparse_categorical_crossentropy', metrics=[tf.keras.metrics.SparseCategoricalAccuracy()])\n",
        "model.compile(optimizer='adam', loss='mse', metrics=['mae', 'mse'])\n",
        "#model.compile(optimizer='adam', loss='sparse_categorical_crossentropy', metrics=['accuracy'])\n",
        "\n",
        "# 訓練の実施\n",
        "model.fit(train_ds, epochs=500, validation_data=valid_ds)"
      ],
      "metadata": {
        "id": "_UX0D7qgmSYq"
      },
      "execution_count": null,
      "outputs": []
    },
    {
      "cell_type": "code",
      "source": [
        "# 評価\n",
        "errors = []\n",
        "for file in glob.glob('data/test/*.png'):\n",
        "    m = re.search(r'/(\\d+)_', file) # ちょっと違うパターンの書き方\n",
        "    label = float( m.groups()[0] ) # 実数に変換\n",
        "    img = cv2.imread(file)\n",
        "    img = img.reshape(1, 64, 64, 3)\n",
        "    img = np.float32(img) / 255.\n",
        "    pred = model.predict(img)\n",
        "    estimate = pred[0][0]\n",
        "    error = abs(label - estimate) / label * 100\n",
        "    print(f'Label {label}, Estimate {estimate}, Error Rate: {error}')\n",
        "    errors.append(error)\n",
        "ave = np.average(np.array(errors))\n",
        "print(f'平均誤り率 {ave:.2f}%')"
      ],
      "metadata": {
        "colab": {
          "base_uri": "https://localhost:8080/"
        },
        "id": "Ujab8-eEGzrX",
        "outputId": "296f84d3-200a-49a5-9379-bb7f4d35ca92"
      },
      "execution_count": 31,
      "outputs": [
        {
          "output_type": "stream",
          "name": "stdout",
          "text": [
            "1/1 [==============================] - 0s 88ms/step\n",
            "Label 2400.0, Estimate 2396.937255859375, Error Rate: 0.12761433919270834\n",
            "1/1 [==============================] - 0s 20ms/step\n",
            "Label 3000.0, Estimate 3014.156982421875, Error Rate: 0.4718994140625\n",
            "1/1 [==============================] - 0s 18ms/step\n",
            "Label 620.0, Estimate 637.8132934570312, Error Rate: 2.873111847908266\n",
            "1/1 [==============================] - 0s 18ms/step\n",
            "Label 160.0, Estimate 166.12399291992188, Error Rate: 3.8274955749511714\n",
            "1/1 [==============================] - 0s 22ms/step\n",
            "Label 1800.0, Estimate 1820.3985595703125, Error Rate: 1.1332533094618056\n",
            "1/1 [==============================] - 0s 21ms/step\n",
            "Label 1600.0, Estimate 1605.006103515625, Error Rate: 0.3128814697265625\n",
            "1/1 [==============================] - 0s 17ms/step\n",
            "Label 430.0, Estimate 439.8010559082031, Error Rate: 2.279315327489099\n",
            "1/1 [==============================] - 0s 19ms/step\n",
            "Label 5600.0, Estimate 5652.86962890625, Error Rate: 0.9441005161830357\n",
            "1/1 [==============================] - 0s 24ms/step\n",
            "Label 390.0, Estimate 382.7019348144531, Error Rate: 1.8712987655248399\n",
            "1/1 [==============================] - 0s 19ms/step\n",
            "Label 9100.0, Estimate 9165.3623046875, Error Rate: 0.718267084478022\n",
            "1/1 [==============================] - 0s 18ms/step\n",
            "Label 150.0, Estimate 160.40475463867188, Error Rate: 6.936503092447917\n",
            "1/1 [==============================] - 0s 23ms/step\n",
            "Label 2200.0, Estimate 2244.520751953125, Error Rate: 2.0236705433238638\n",
            "1/1 [==============================] - 0s 19ms/step\n",
            "Label 3300.0, Estimate 3250.107666015625, Error Rate: 1.5118889086174243\n",
            "平均誤り率 1.93%\n"
          ]
        }
      ]
    }
  ]
}