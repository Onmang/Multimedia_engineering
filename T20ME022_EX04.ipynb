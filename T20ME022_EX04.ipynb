{
  "nbformat": 4,
  "nbformat_minor": 0,
  "metadata": {
    "colab": {
      "provenance": [],
      "mount_file_id": "1BfTijZSo7Zog-tFP0kaj2aGLgjwwaFxq",
      "authorship_tag": "ABX9TyMmUhz7O/TE0YN7XjVFSZ3d",
      "include_colab_link": true
    },
    "kernelspec": {
      "name": "python3",
      "display_name": "Python 3"
    },
    "language_info": {
      "name": "python"
    }
  },
  "cells": [
    {
      "cell_type": "markdown",
      "metadata": {
        "id": "view-in-github",
        "colab_type": "text"
      },
      "source": [
        "<a href=\"https://colab.research.google.com/github/Onmang/Multimedia_engineering/blob/master/T20ME022_EX04.ipynb\" target=\"_parent\"><img src=\"https://colab.research.google.com/assets/colab-badge.svg\" alt=\"Open In Colab\"/></a>"
      ]
    },
    {
      "cell_type": "code",
      "execution_count": 46,
      "metadata": {
        "id": "l_X-ntiwdxrG"
      },
      "outputs": [],
      "source": [
        "import openpyxl as op \n",
        "\n",
        "def main():\n",
        "  wb = op.load_workbook('/content/drive/MyDrive/05k2-3.xlsx')\n",
        "  ws = wb.worksheets[0]\n",
        "  ws['J4'].value = '男性比率'\n",
        "  ws['K4'].value = '女性比率'\n",
        "\n",
        "  times = []\n",
        "  sects = []\n",
        "  for i in range(1, 101):\n",
        "    time = ws.cell(row=i, column=1)\n",
        "    sect = ws.cell(row=i, column=5)\n",
        "    times.append(time.value)\n",
        "    sects.append(sect.value)\n",
        "  \n",
        "  for i,(time, sect) in enumerate(zip(times,sects),1):\n",
        "    if time == 2021000101 and sect == '人口':\n",
        "      indx_m = 'j'+ str(i)\n",
        "      cal_m = ws[indx_m]\n",
        "      cal_m.value = f'=(H{i}/G{i})*100'\n",
        "\n",
        "      indx_o = 'k'+ str(i)\n",
        "      cal_o = ws[indx_o]\n",
        "      cal_o.value = f'=(I{i}/G{i})*100'\n",
        "  \n",
        "  wb.save('/content/drive/MyDrive/05k2-3.xlsx')\n",
        "  wb.close()\n",
        "\n",
        "if __name__ ==\"__main__\":\n",
        "  main()"
      ]
    },
    {
      "cell_type": "code",
      "source": [],
      "metadata": {
        "id": "uktE2khkomXS"
      },
      "execution_count": null,
      "outputs": []
    }
  ]
}