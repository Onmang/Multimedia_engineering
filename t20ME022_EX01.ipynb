{
  "nbformat": 4,
  "nbformat_minor": 0,
  "metadata": {
    "colab": {
      "provenance": [],
      "authorship_tag": "ABX9TyNhWGi9BZLhTRJp1EIOkvhu",
      "include_colab_link": true
    },
    "kernelspec": {
      "name": "python3",
      "display_name": "Python 3"
    },
    "language_info": {
      "name": "python"
    }
  },
  "cells": [
    {
      "cell_type": "markdown",
      "metadata": {
        "id": "view-in-github",
        "colab_type": "text"
      },
      "source": [
        "<a href=\"https://colab.research.google.com/github/Onmang/Multimedia_engineering/blob/master/t20ME022_EX01.ipynb\" target=\"_parent\"><img src=\"https://colab.research.google.com/assets/colab-badge.svg\" alt=\"Open In Colab\"/></a>"
      ]
    },
    {
      "cell_type": "code",
      "execution_count": 68,
      "metadata": {
        "id": "KX7Kk6PyN_Es"
      },
      "outputs": [],
      "source": [
        "# 総和を求める関数\n",
        "def sum(num):\n",
        "  SUM=0\n",
        "  for i in range(num+1):\n",
        "    SUM += i\n",
        "  return SUM\n",
        "\n",
        "# main関数\n",
        "def main():\n",
        "  N = input('自然数を入力してください >> ')\n",
        "  N = int(N)  #int型にキャスト\n",
        "  "
      ]
    }
  ]
}