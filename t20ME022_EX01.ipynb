{
  "nbformat": 4,
  "nbformat_minor": 0,
  "metadata": {
    "colab": {
      "provenance": [],
      "authorship_tag": "ABX9TyMBsT41bDUTbXoDo8ElD4Ty",
      "include_colab_link": true
    },
    "kernelspec": {
      "name": "python3",
      "display_name": "Python 3"
    },
    "language_info": {
      "name": "python"
    }
  },
  "cells": [
    {
      "cell_type": "markdown",
      "metadata": {
        "id": "view-in-github",
        "colab_type": "text"
      },
      "source": [
        "<a href=\"https://colab.research.google.com/github/Onmang/Multimedia_engineering/blob/master/t20ME022_EX01.ipynb\" target=\"_parent\"><img src=\"https://colab.research.google.com/assets/colab-badge.svg\" alt=\"Open In Colab\"/></a>"
      ]
    },
    {
      "cell_type": "code",
      "execution_count": 3,
      "metadata": {
        "id": "KX7Kk6PyN_Es",
        "colab": {
          "base_uri": "https://localhost:8080/"
        },
        "outputId": "97d603fe-cfc5-4114-aa95-8c23b46f3a31"
      },
      "outputs": [
        {
          "output_type": "stream",
          "name": "stdout",
          "text": [
            "自然数を入力してください >> -10\n",
            "-10 は自然数ではありません\n",
            "自然数を入力してください >> 0\n",
            "0 は自然数ではありません\n",
            "自然数を入力してください >> 10\n",
            "自然数 10 までの総和は 55 です\n"
          ]
        }
      ],
      "source": [
        "# 総和を求める関数\n",
        "def sum(num):\n",
        "  SUM=0\n",
        "  for i in range(num+1):\n",
        "    SUM += i\n",
        "  return SUM\n",
        "\n",
        "# main関数\n",
        "def main():\n",
        "  while True:\n",
        "    N = input('自然数を入力してください >> ')\n",
        "    N = int(N)  #int型にキャスト\n",
        "    if N > 0:\n",
        "      break\n",
        "    else :\n",
        "      print(f'{N} は自然数ではありません')\n",
        "  print(f'自然数 {N} までの総和は {sum(N)} です')\n",
        "\n",
        "# main\n",
        "if __name__ == \"__main__\":\n",
        "  main()"
      ]
    },
    {
      "cell_type": "code",
      "source": [],
      "metadata": {
        "id": "YCtqdUbqbG_x"
      },
      "execution_count": null,
      "outputs": []
    }
  ]
}